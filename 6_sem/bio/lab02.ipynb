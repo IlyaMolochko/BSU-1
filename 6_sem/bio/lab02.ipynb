{
 "cells": [
  {
   "cell_type": "code",
   "execution_count": 31,
   "metadata": {},
   "outputs": [],
   "source": [
    "import re"
   ]
  },
  {
   "cell_type": "markdown",
   "metadata": {},
   "source": [
    "# Task 1"
   ]
  },
  {
   "cell_type": "markdown",
   "metadata": {},
   "source": [
    "Файл dna.txt в папке data содержит ДНК последовательность.  Предскажите (определите) длину фрагментов, которая получатся при разрезании последовательности двумя рестриктазами - – AbcI, с сайтом ANT*AAT, и AbcII, с сайтом GCRW*TG (звездочка указывает позицию разреза).\n",
    "\n",
    "Файл содержит одну последоваетльность, которую можно просматреть с использованием команды re.finditer для выявления позиций сайтов разреза.\n",
    "\n",
    "Символы сайтов рестриктаз означают: N – любое основание, т.е. для AbcI  эквивалентно A[ATGC]TAAT; R означает A или G; W – означает A или T. Т.е. шаблон для AbcII можно записать как GC[AG][AT]TG."
   ]
  },
  {
   "cell_type": "code",
   "execution_count": 65,
   "metadata": {},
   "outputs": [
    {
     "name": "stdout",
     "output_type": "stream",
     "text": [
      "488 655 869\n",
      "1143 434 435\n",
      "488 1140 384\n",
      "1577 51 384\n"
     ]
    }
   ],
   "source": [
    "with open('/home/alex/Yandex.Disk/BSU/Bio2/Практика 3/data/dna.txt') as f:\n",
    "    data = f.readline()[:-1]\n",
    "first = [i.regs[0][0] + 3 for i in re.finditer('A[ATGC]TAAT', data)]\n",
    "second = [i.regs[0][0] + 4 for i in re.finditer('GC[AG][AT]TG', data)]\n",
    "for i in first:\n",
    "    for j in second:\n",
    "        print(min(i, j), max(i, j) - min(i, j), len(data) - max(i, j))"
   ]
  },
  {
   "cell_type": "markdown",
   "metadata": {},
   "source": [
    "# Task 2"
   ]
  },
  {
   "cell_type": "markdown",
   "metadata": {},
   "source": [
    "Круговой участок ДНК длины 4000 п.н. разрезается на две части  с использованием рестриктазы EcoRI: одна часть 3000 п.н., другая 1000 п.н. Другая рестриктаза BamHI разрезает ДНК молекулу на 3 части длины 2500, 1200 и 300 п.н. Если используются обе рестриктазы то генерируются фрагменты размера 1600, 1200, 900, 200 и 100. Используйте эту информацию для получения генетической карты для этой циклической молекулы. Нарисуйте кольцевую молекулу и покажите положения разрезов для двух рестриктаз."
   ]
  },
  {
   "cell_type": "markdown",
   "metadata": {},
   "source": [
    "900 - 1600 - 1200 - 200 - 100"
   ]
  },
  {
   "cell_type": "markdown",
   "metadata": {},
   "source": [
    "# Task 3"
   ]
  },
  {
   "cell_type": "markdown",
   "metadata": {},
   "source": [
    "Рассмотрим задачу частичного разреза.\n",
    "\n",
    "\tL={1,1,1,2,2,3,3,3,4,4,5,5,6,6,6,9,9,10,11,12,15}\n",
    "    \n",
    "Решите задачу для L (найдите X такое что $\\Delta$ X=L)"
   ]
  },
  {
   "cell_type": "code",
   "execution_count": 27,
   "metadata": {},
   "outputs": [],
   "source": [
    "def get_delta(X):\n",
    "    L = []\n",
    "    L.extend(X)\n",
    "    for i in range(len(X)):\n",
    "        for j in X[i + 1:]:\n",
    "            L.append(j - X[i])\n",
    "    L.sort()\n",
    "    return L"
   ]
  },
  {
   "cell_type": "code",
   "execution_count": 30,
   "metadata": {},
   "outputs": [
    {
     "name": "stdout",
     "output_type": "stream",
     "text": [
      "[6, 9, 10, 11, 12, 15]\n"
     ]
    }
   ],
   "source": [
    "L = [1,1,1,2,2,3,3,3,4,4,5,5,6,6,6,9,9,10,11,12,15]\n",
    "X = list(set(L))\n",
    "for i in range(2 ** len(X)):\n",
    "    temp = []\n",
    "    for j in X:\n",
    "        if i % 2 != 0:\n",
    "            temp.append(j)\n",
    "        i /= 2\n",
    "    if len(temp) == 6:\n",
    "        delta = get_delta(temp)\n",
    "        if all([L[i] == delta[i] for i in range(len(L))]):\n",
    "            print(temp)\n",
    "            break"
   ]
  }
 ],
 "metadata": {
  "kernelspec": {
   "display_name": "Python 3",
   "language": "python",
   "name": "python3"
  },
  "language_info": {
   "codemirror_mode": {
    "name": "ipython",
    "version": 3
   },
   "file_extension": ".py",
   "mimetype": "text/x-python",
   "name": "python",
   "nbconvert_exporter": "python",
   "pygments_lexer": "ipython3",
   "version": "3.5.2"
  }
 },
 "nbformat": 4,
 "nbformat_minor": 2
}
