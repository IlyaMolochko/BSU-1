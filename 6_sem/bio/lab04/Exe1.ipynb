{
 "cells": [
  {
   "cell_type": "code",
   "execution_count": 15,
   "metadata": {},
   "outputs": [],
   "source": [
    "from Bio import SeqIO\n",
    "import os\n",
    "import subprocess\n",
    "from Bio import AlignIO\n",
    "from Bio.Align import AlignInfo\n",
    "from Bio import SubsMat"
   ]
  },
  {
   "cell_type": "code",
   "execution_count": 2,
   "metadata": {},
   "outputs": [
    {
     "name": "stdout",
     "output_type": "stream",
     "text": [
      "P17102.1\n",
      "RecName: Full=Protein X; AltName: Full=HBx; AltName: Full=Peptide X; AltName: Full=pX\n",
      "X_HBVA4\n",
      "MATRLCCQLDPSRDVLCLRPVGAESRGRPLSGPLGTLSSPSPSAVPADHGAHLSLRGLPVCAFSSAGPCALRFTSARCMETTVNAHQILPKVLHKRTLGLPAMSTTDLEAYFKDCVFKDWEELGEEIRLKVFVLGGCRHKLVCAPAPCNFFTSA\n"
     ]
    }
   ],
   "source": [
    "record = SeqIO.read( \"P17102.gbk\" , \"genbank\" )\n",
    "print(record.id)\n",
    "print(record.description)\n",
    "print(record.name)\n",
    "print(record.seq)"
   ]
  },
  {
   "cell_type": "code",
   "execution_count": 3,
   "metadata": {},
   "outputs": [
    {
     "name": "stdout",
     "output_type": "stream",
     "text": [
      "sp|P17102|X_HBVA4 Protein X OS=Hepatitis B virus genotype A2 subtype adw2 (isolate Germany/991/1990) GN=X PE=3 SV=1\n",
      "MATRLCCQLDPSRDVLCLRPVGAESRGRPLSGPLGTLSSPSPSAVPADHGAHLSLRGLPVCAFSSAGPCALRFTSARCMETTVNAHQILPKVLHKRTLGLPAMSTTDLEAYFKDCVFKDWEELGEEIRLKVFVLGGCRHKLVCAPAPCNFFTSA\n"
     ]
    }
   ],
   "source": [
    "record = SeqIO.read ( \"P17102.fasta\", \"fasta\" )\n",
    "print(record.description)\n",
    "print(record.seq)"
   ]
  },
  {
   "cell_type": "code",
   "execution_count": 5,
   "metadata": {},
   "outputs": [],
   "source": [
    "records = []\n",
    "for filename in os.listdir(\"LHBs\"):\n",
    "    handle = open(\"LHBs\" + \"/\" + filename)\n",
    "    record = SeqIO.read( handle, \"swiss\" )\n",
    "    records.append ( record ) "
   ]
  },
  {
   "cell_type": "code",
   "execution_count": 7,
   "metadata": {},
   "outputs": [
    {
     "data": {
      "text/plain": [
       "44"
      ]
     },
     "execution_count": 7,
     "metadata": {},
     "output_type": "execute_result"
    }
   ],
   "source": [
    "len(records)\n",
    "SeqIO.write( records, \"LHBs_variants.fasta\", \"fasta\" )"
   ]
  },
  {
   "cell_type": "code",
   "execution_count": 9,
   "metadata": {},
   "outputs": [
    {
     "data": {
      "text/plain": [
       "0"
      ]
     },
     "execution_count": 9,
     "metadata": {},
     "output_type": "execute_result"
    }
   ],
   "source": [
    "subprocess.call(['clustalw', 'LHBs_variants.fasta'])"
   ]
  },
  {
   "cell_type": "code",
   "execution_count": 11,
   "metadata": {},
   "outputs": [],
   "source": [
    "alignment = AlignIO.read( open(\"LHBs_variants.aln\") , \"clustal\" )\n",
    "print(\"Alignment length %i\" % alignment.get_alignment_length())\n",
    "print(print alignment[0])"
   ]
  },
  {
   "cell_type": "code",
   "execution_count": 13,
   "metadata": {},
   "outputs": [
    {
     "name": "stdout",
     "output_type": "stream",
     "text": [
      "MGGXSSXXRXGMGXNLSVPNPLGFFPDHQLDPAFXANSXNPDWDFNPXKDXWPXANXVGXGAFGPGFTPPHGGLLGWSPQAQGXLTTXPAXPPPASTNRQSGRQPTPXSPPLRDXHPQAMQWNSTXFHQXLXDPRVRGLYFPAGGSSSGTVNPXPXXASXISSIXSXTGDPAXNMENITSGXLGPLLVLQAGFFLLTXILTIPQSLDSWWTSLNFLGGXPXCXGQNSQSPTSNHSPTSCPPXCPGYRWMCLRRFIIFLFILLLCLIFLLVLLDYQGMLPVCPLXPGSXTTSTGPCXTCTTXAQGTSMFPSCCCTKPXDGNCTCIPIPSSWAFXKXLWEWASXRFSWLSLLVPFVQWFVGLSPTVWLSVIWMMWYWGPSLYXILSPFXPLLPIFFCLWVYI\n"
     ]
    }
   ],
   "source": [
    "summary_align = AlignInfo.SummaryInfo(alignment)\n",
    "consensus = summary_align.dumb_consensus()\n",
    "print(consensus)"
   ]
  },
  {
   "cell_type": "code",
   "execution_count": 14,
   "metadata": {},
   "outputs": [
    {
     "name": "stdout",
     "output_type": "stream",
     "text": [
      "957.0\n",
      "10.0\n"
     ]
    }
   ],
   "source": [
    "replace_info = summary_align.replacement_dictionary()\n",
    "print(replace_info[ (\"A\", \"G\") ])\n",
    "print(replace_info[ (\"A\", \"K\") ])"
   ]
  },
  {
   "cell_type": "code",
   "execution_count": 16,
   "metadata": {},
   "outputs": [
    {
     "name": "stdout",
     "output_type": "stream",
     "text": [
      "   -   A   C   D   E   F   G   H   I   K   L   M   N   P   Q   R   S   T   V   W   Y\n",
      "-   5  -1  ND  ND   0  ND   0  -2  ND   2  -1   1  ND   0  -1   1   0  -1  -2   0  -2\n",
      "A  -1   4  ND  -2  -1  ND  -1  -2  -4  -5  -3  -4  -3  -3  -4  -5  -2   0   1  -8  ND\n",
      "C  ND  ND   4  ND  ND   0  -5  ND  ND  ND  -7  ND  ND  ND  ND  ND  -3  ND  ND  ND   0\n",
      "D  ND  -2  ND   5   1  ND  -2  -4  -4  -4  ND  -2  -1 -10  -4  -6  -6  -4  -3  ND  ND\n",
      "E   0  -1  ND   1   6  ND   0  -3  ND  -2  ND   0  -1  ND  -1  -2  -3  -5  -4  ND  ND\n",
      "F  ND  ND   0  ND  ND   3  ND  -2  -6  ND  -1  ND  ND  ND  ND  ND  -3  ND  -7  ND   0\n",
      "G   0  -1  -5  -2   0  ND   3  ND  ND  -2  ND  -3  -5  ND  -6  -1  -5  -6  -2  -5  ND\n",
      "H  -2  -2  ND  -4  -3  -2  ND   5  -3  -3  -2  ND   0  -2  -1  -4  -4  -1  -5  -7  -7\n",
      "I  ND  -4  ND  -4  ND  -6  ND  -3   4  -6  -1   0  -2  -8  ND  ND  -6   0  -2  ND  ND\n",
      "K   2  -5  ND  -4  -2  ND  -2  -3  -6   5  -4  -2  -2  -4   0   2  -5   0  -8  ND  ND\n",
      "L  -1  -3  -7  ND  ND  -1  ND  -2  -1  -4   2  -2  ND  -2  -2  -4  -2  -5  -1  -5  -7\n",
      "M   1  -4  ND  -2   0  ND  -3  ND   0  -2  -2   5  -6  -3  -4  ND  -5  -2  -2  -2  ND\n",
      "N  ND  -3  ND  -1  -1  ND  -5   0  -2  -2  ND  -6   4  -7  -5  -3   0  -1  -4  -5  ND\n",
      "P   0  -3  ND -10  ND  ND  ND  -2  -8  -4  -2  -3  -7   2  -2  -4  -3  -2  -4  -4  -7\n",
      "Q  -1  -4  ND  -4  -1  ND  -6  -1  ND   0  -2  -4  -5  -2   4  -1  -9  -1  -2  ND  ND\n",
      "R   1  -5  ND  -6  -2  ND  -1  -4  ND   2  -4  ND  -3  -4  -1   4  -3  -4  -5  -5  -8\n",
      "S   0  -2  -3  -6  -3  -3  -5  -4  -6  -5  -2  -5   0  -3  -9  -3   3   0  -5  -5  -2\n",
      "T  -1   0  ND  -4  -5  ND  -6  -1   0   0  -5  -2  -1  -2  -1  -4   0   3  -1  ND  ND\n",
      "V  -2   1  ND  -3  -4  -7  -2  -5  -2  -8  -1  -2  -4  -4  -2  -5  -5  -1   4  ND  ND\n",
      "W   0  -8  ND  ND  ND  ND  -5  -7  ND  ND  -5  -2  -5  -4  ND  -5  -5  ND  ND   4  -4\n",
      "Y  -2  ND   0  ND  ND   0  ND  -7  ND  ND  -7  ND  ND  -7  ND  -8  -2  ND  ND  -4   5\n"
     ]
    }
   ],
   "source": [
    "my_arm = SubsMat.SeqMat(replace_info)\n",
    "my_lom = SubsMat.make_log_odds_matrix(my_arm)\n",
    "my_lom.print_full_mat()"
   ]
  }
 ],
 "metadata": {
  "kernelspec": {
   "display_name": "Python 3",
   "language": "python",
   "name": "python3"
  },
  "language_info": {
   "codemirror_mode": {
    "name": "ipython",
    "version": 3
   },
   "file_extension": ".py",
   "mimetype": "text/x-python",
   "name": "python",
   "nbconvert_exporter": "python",
   "pygments_lexer": "ipython3",
   "version": "3.5.2"
  }
 },
 "nbformat": 4,
 "nbformat_minor": 2
}
