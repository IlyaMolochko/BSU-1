{
 "cells": [
  {
   "cell_type": "code",
   "execution_count": 52,
   "metadata": {},
   "outputs": [],
   "source": [
    "from Bio import Entrez\n",
    "from Bio import SeqIO\n",
    "from Bio.Blast.Applications import NcbiblastpCommandline\n",
    "from Bio.Blast import NCBIXML\n",
    "from Bio.Blast import NCBIWWW"
   ]
  },
  {
   "cell_type": "code",
   "execution_count": 2,
   "metadata": {},
   "outputs": [
    {
     "name": "stdout",
     "output_type": "stream",
     "text": [
      ">sp|O92920.1|HBEAG_HBVD7 RecName: Full=External core antigen; AltName: Full=HBeAg; AltName: Full=Precore protein; AltName: Full=p25; Flags: Precursor\n",
      "MQLFHLCLIISCSCPTVQASKLCLGWLWDMDIDPYKEFGATVQLLSFLPHDFFPSVRDLLDTASALFRDA\n",
      "LESPEHCSPHHTALRQAILCWGELMTLATWVGANLQDPASRELVVTYVNINMGLKFRQLLWFHISCLTFG\n",
      "RETVIEYLVSFGVWIRTPQAYRPPNAPILSTLPETTVVRRRGRSPRRRTPSPRRRRSQSPRRRRSQSRES\n",
      "QC\n",
      "\n",
      "\n"
     ]
    }
   ],
   "source": [
    "Entrez.email = \"your@gmail.com\"\n",
    "entrez_handle = Entrez.efetch(db=\"protein\", id=\"O92920\", rettype=\"fasta\")\n",
    "print(entrez_handle.read())"
   ]
  },
  {
   "cell_type": "code",
   "execution_count": 9,
   "metadata": {},
   "outputs": [
    {
     "name": "stdout",
     "output_type": "stream",
     "text": [
      "ID: sp|O92920.1|HBEAG_HBVD7\n",
      "Name: sp|O92920.1|HBEAG_HBVD7\n",
      "Description: sp|O92920.1|HBEAG_HBVD7 RecName: Full=External core antigen; AltName: Full=HBeAg; AltName: Full=Precore protein; AltName: Full=p25; Flags: Precursor\n",
      "Number of features: 0\n",
      "Seq('MQLFHLCLIISCSCPTVQASKLCLGWLWDMDIDPYKEFGATVQLLSFLPHDFFP...SQC', SingleLetterAlphabet())\n"
     ]
    },
    {
     "data": {
      "text/plain": [
       "1"
      ]
     },
     "execution_count": 9,
     "metadata": {},
     "output_type": "execute_result"
    }
   ],
   "source": [
    "entrez_handle = Entrez.efetch(db=\"protein\", id=\"O92920\", rettype=\"fasta\")\n",
    "record = SeqIO.read(entrez_handle, \"fasta\")\n",
    "print(record)\n",
    "SeqIO.write( record , \"O92920.fasta\" , \"fasta\" )"
   ]
  },
  {
   "cell_type": "code",
   "execution_count": 11,
   "metadata": {},
   "outputs": [],
   "source": [
    "my_blast_db = \"HBV\"\n",
    "my_blast_file = \"O92920.fasta\"\n",
    "my_blast_out = 'O92920_res.xml'"
   ]
  },
  {
   "cell_type": "code",
   "execution_count": 24,
   "metadata": {},
   "outputs": [
    {
     "name": "stdout",
     "output_type": "stream",
     "text": [
      "blastp -out O92920_res.xml -outfmt 5 -query O92920.fasta -db HBV\n"
     ]
    }
   ],
   "source": [
    "cline = NcbiblastpCommandline(query=my_blast_file, db=my_blast_db,  outfmt=5,out=my_blast_out)\n",
    "print(cline)\n",
    "stdout, stderr = cline()"
   ]
  },
  {
   "cell_type": "code",
   "execution_count": 48,
   "metadata": {},
   "outputs": [],
   "source": [
    "result = open(my_blast_out,\"r\")\n",
    "records = NCBIXML.parse(result)"
   ]
  },
  {
   "cell_type": "code",
   "execution_count": 49,
   "metadata": {},
   "outputs": [],
   "source": [
    "for i in records:\n",
    "    item = i"
   ]
  },
  {
   "cell_type": "code",
   "execution_count": 50,
   "metadata": {},
   "outputs": [
    {
     "name": "stdout",
     "output_type": "stream",
     "text": [
      "**** ALIGNMENT ****\n",
      "   sequence: sp|O92920|HBEAG_HBVD7 External core antigen OS=Hep...\n",
      "   length: 212\n",
      "   e value: 3.86364e-156\n",
      "score: 1119.0\n",
      "gaps: 0\n",
      "   MQLFHLCLIISCSCPTVQASKLCLGWLWDMDIDPYKEFGATVQLLSFLPHDFFPSVRDLLDTASALFRDALESPE...\n",
      "   MQLFHLCLIISCSCPTVQASKLCLGWLWDMDIDPYKEFGATVQLLSFLPHDFFPSVRDLLDTASALFRDALESPE...\n",
      "   MQLFHLCLIISCSCPTVQASKLCLGWLWDMDIDPYKEFGATVQLLSFLPHDFFPSVRDLLDTASALFRDALESPE...\n",
      "**** ALIGNMENT ****\n",
      "   sequence: tr|O92918|O92918_HBV Precore protein OS=Hepatitis ...\n",
      "   length: 212\n",
      "   e value: 5.6317e-151\n",
      "score: 1085.0\n",
      "gaps: 0\n",
      "   MQLFHLCLIISCSCPTVQASKLCLGWLWDMDIDPYKEFGATVQLLSFLPHDFFPSVRDLLDTASALFRDALESPE...\n",
      "   MQLFHLCLIISCSCPTVQASKLCLGWLWDMDIDPYKEFGATV+LLSFLP DFFPSVRDLLDTASALFRDALESPE...\n",
      "   MQLFHLCLIISCSCPTVQASKLCLGWLWDMDIDPYKEFGATVELLSFLPSDFFPSVRDLLDTASALFRDALESPE...\n",
      "**** ALIGNMENT ****\n",
      "   sequence: tr|I2DB80|I2DB80_HBV Precore/core protein OS=Hepat...\n",
      "   length: 212\n",
      "   e value: 1.17361e-137\n",
      "score: 997.0\n",
      "gaps: 0\n",
      "   MQLFHLCLIISCSCPTVQASKLCLGWLWDMDIDPYKEFGATVQLLSFLPHDFFPSVRDLLDTASALFRDALESPE...\n",
      "   MQ FHLCLIISCSCPTVQASKLCLGWLW MDIDPYKEFGATV+LLSFLP DFFPSVRDLLDTASAL+RDALESPE...\n",
      "   MQFFHLCLIISCSCPTVQASKLCLGWLWGMDIDPYKEFGATVELLSFLPSDFFPSVRDLLDTASALYRDALESPE...\n",
      "**** ALIGNMENT ****\n",
      "   sequence: tr|Q80J98|Q80J98_HBV Precore/core protein OS=Hepat...\n",
      "   length: 212\n",
      "   e value: 1.45427e-135\n",
      "score: 983.0\n",
      "gaps: 0\n",
      "   MQLFHLCLIISCSCPTVQASKLCLGWLWDMDIDPYKEFGATVQLLSFLPHDFFPSVRDLLDTASALFRDALESPE...\n",
      "   MQLFHLCLIISCSCPTVQASKLCLGWLW MDIDPYKEFGA+V+LLSFLP DFFPSVRDLLDTA+AL+R+ALESPE...\n",
      "   MQLFHLCLIISCSCPTVQASKLCLGWLWGMDIDPYKEFGASVELLSFLPSDFFPSVRDLLDTATALYREALESPE...\n",
      "**** ALIGNMENT ****\n",
      "   sequence: tr|Q917J7|Q917J7_HBV Pre-core protein OS=Hepatitis...\n",
      "   length: 212\n",
      "   e value: 7.49474e-131\n",
      "score: 952.0\n",
      "gaps: 0\n",
      "   MQLFHLCLIISCSCPTVQASKLCLGWLWDMDIDPYKEFGATVQLLSFLPHDFFPSVRDLLDTASALFRDALESPE...\n",
      "   MQLFHLCLIISCSCPTVQASKLCLGWLW MDIDPYKEFGATV+LLSFLP DFFPSVRDLLDTASAL+R+ALESPE...\n",
      "   MQLFHLCLIISCSCPTVQASKLCLGWLWGMDIDPYKEFGATVELLSFLPSDFFPSVRDLLDTASALYREALESPE...\n"
     ]
    }
   ],
   "source": [
    "for alignment in item.alignments[:5]:\n",
    "    for hsp in alignment.hsps:\n",
    "        print(\"**** ALIGNMENT ****\")\n",
    "        print(\"   sequence:\", alignment.title[:50] + \"...\")\n",
    "        print(\"   length:\", alignment.length)\n",
    "        print(\"   e value:\", hsp.expect)\n",
    "        print('score:', hsp.score)\n",
    "        print('gaps:', hsp.gaps)\n",
    "        print(\"   \" + hsp.query[0:75] + \"...\")\n",
    "        print(\"   \" + hsp.match[0:75] + \"...\")\n",
    "        print(\"   \" + hsp.sbjct[0:75] + \"...\")"
   ]
  },
  {
   "cell_type": "code",
   "execution_count": 53,
   "metadata": {},
   "outputs": [],
   "source": [
    "result_handle = NCBIWWW.qblast(\"blastp\", \"nr\", \"O92920\")"
   ]
  },
  {
   "cell_type": "code",
   "execution_count": 54,
   "metadata": {},
   "outputs": [],
   "source": [
    "blast_records = NCBIXML.parse(result_handle)\n",
    "for i in blast_records:\n",
    "    blast_record = i"
   ]
  },
  {
   "cell_type": "code",
   "execution_count": 56,
   "metadata": {},
   "outputs": [
    {
     "name": "stdout",
     "output_type": "stream",
     "text": [
      "**** ALIGNMENT ****\n",
      "   sequence: sp|O92920|HBEAG_HBVD7 External core antigen OS=Hep...\n",
      "   length: 212\n",
      "   e value: 3.86364e-156\n",
      "score: 1119.0\n",
      "gaps: 0\n",
      "   MQLFHLCLIISCSCPTVQASKLCLGWLWDMDIDPYKEFGATVQLLSFLPHDFFPSVRDLLDTASALFRDALESPE...\n",
      "   MQLFHLCLIISCSCPTVQASKLCLGWLWDMDIDPYKEFGATVQLLSFLPHDFFPSVRDLLDTASALFRDALESPE...\n",
      "   MQLFHLCLIISCSCPTVQASKLCLGWLWDMDIDPYKEFGATVQLLSFLPHDFFPSVRDLLDTASALFRDALESPE...\n",
      "**** ALIGNMENT ****\n",
      "   sequence: tr|O92918|O92918_HBV Precore protein OS=Hepatitis ...\n",
      "   length: 212\n",
      "   e value: 5.6317e-151\n",
      "score: 1085.0\n",
      "gaps: 0\n",
      "   MQLFHLCLIISCSCPTVQASKLCLGWLWDMDIDPYKEFGATVQLLSFLPHDFFPSVRDLLDTASALFRDALESPE...\n",
      "   MQLFHLCLIISCSCPTVQASKLCLGWLWDMDIDPYKEFGATV+LLSFLP DFFPSVRDLLDTASALFRDALESPE...\n",
      "   MQLFHLCLIISCSCPTVQASKLCLGWLWDMDIDPYKEFGATVELLSFLPSDFFPSVRDLLDTASALFRDALESPE...\n",
      "**** ALIGNMENT ****\n",
      "   sequence: tr|I2DB80|I2DB80_HBV Precore/core protein OS=Hepat...\n",
      "   length: 212\n",
      "   e value: 1.17361e-137\n",
      "score: 997.0\n",
      "gaps: 0\n",
      "   MQLFHLCLIISCSCPTVQASKLCLGWLWDMDIDPYKEFGATVQLLSFLPHDFFPSVRDLLDTASALFRDALESPE...\n",
      "   MQ FHLCLIISCSCPTVQASKLCLGWLW MDIDPYKEFGATV+LLSFLP DFFPSVRDLLDTASAL+RDALESPE...\n",
      "   MQFFHLCLIISCSCPTVQASKLCLGWLWGMDIDPYKEFGATVELLSFLPSDFFPSVRDLLDTASALYRDALESPE...\n",
      "**** ALIGNMENT ****\n",
      "   sequence: tr|Q80J98|Q80J98_HBV Precore/core protein OS=Hepat...\n",
      "   length: 212\n",
      "   e value: 1.45427e-135\n",
      "score: 983.0\n",
      "gaps: 0\n",
      "   MQLFHLCLIISCSCPTVQASKLCLGWLWDMDIDPYKEFGATVQLLSFLPHDFFPSVRDLLDTASALFRDALESPE...\n",
      "   MQLFHLCLIISCSCPTVQASKLCLGWLW MDIDPYKEFGA+V+LLSFLP DFFPSVRDLLDTA+AL+R+ALESPE...\n",
      "   MQLFHLCLIISCSCPTVQASKLCLGWLWGMDIDPYKEFGASVELLSFLPSDFFPSVRDLLDTATALYREALESPE...\n",
      "**** ALIGNMENT ****\n",
      "   sequence: tr|Q917J7|Q917J7_HBV Pre-core protein OS=Hepatitis...\n",
      "   length: 212\n",
      "   e value: 7.49474e-131\n",
      "score: 952.0\n",
      "gaps: 0\n",
      "   MQLFHLCLIISCSCPTVQASKLCLGWLWDMDIDPYKEFGATVQLLSFLPHDFFPSVRDLLDTASALFRDALESPE...\n",
      "   MQLFHLCLIISCSCPTVQASKLCLGWLW MDIDPYKEFGATV+LLSFLP DFFPSVRDLLDTASAL+R+ALESPE...\n",
      "   MQLFHLCLIISCSCPTVQASKLCLGWLWGMDIDPYKEFGATVELLSFLPSDFFPSVRDLLDTASALYREALESPE...\n"
     ]
    }
   ],
   "source": [
    "for alignment in item.alignments[:5]:\n",
    "    for hsp in alignment.hsps:\n",
    "        print(\"**** ALIGNMENT ****\")\n",
    "        print(\"   sequence:\", alignment.title[:50] + \"...\")\n",
    "        print(\"   length:\", alignment.length)\n",
    "        print(\"   e value:\", hsp.expect)\n",
    "        print('score:', hsp.score)\n",
    "        print('gaps:', hsp.gaps)\n",
    "        print(\"   \" + hsp.query[0:75] + \"...\")\n",
    "        print(\"   \" + hsp.match[0:75] + \"...\")\n",
    "        print(\"   \" + hsp.sbjct[0:75] + \"...\")"
   ]
  }
 ],
 "metadata": {
  "kernelspec": {
   "display_name": "Python 3",
   "language": "python",
   "name": "python3"
  },
  "language_info": {
   "codemirror_mode": {
    "name": "ipython",
    "version": 3
   },
   "file_extension": ".py",
   "mimetype": "text/x-python",
   "name": "python",
   "nbconvert_exporter": "python",
   "pygments_lexer": "ipython3",
   "version": "3.5.2"
  }
 },
 "nbformat": 4,
 "nbformat_minor": 2
}
