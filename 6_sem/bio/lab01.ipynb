{
 "cells": [
  {
   "cell_type": "code",
   "execution_count": 2,
   "metadata": {},
   "outputs": [],
   "source": [
    "from Bio import SeqIO\n",
    "import pandas as pd"
   ]
  },
  {
   "cell_type": "code",
   "execution_count": 4,
   "metadata": {},
   "outputs": [],
   "source": [
    "data_path = '/home/alex/Yandex.Disk/BSU/Bio2/Практика 2/data/'"
   ]
  },
  {
   "cell_type": "markdown",
   "metadata": {},
   "source": [
    "# Задание 1"
   ]
  },
  {
   "cell_type": "code",
   "execution_count": 70,
   "metadata": {},
   "outputs": [],
   "source": [
    "fasta = []\n",
    "with open(data_path + 'SK926/SK926.fna') as f:\n",
    "    for record in SeqIO.parse(f, 'fasta'):\n",
    "        fasta.append(record)\n",
    "blast = pd.read_csv(data_path + 'SK926/SK926.blast_swissprot',\n",
    "                    sep='\\t', header=None)\n",
    "ncbi = pd.read_csv(data_path + 'SK926/swissprot_db.dat', \n",
    "                    sep='\\t', header=None)"
   ]
  },
  {
   "cell_type": "code",
   "execution_count": 53,
   "metadata": {},
   "outputs": [],
   "source": [
    "codons = dict()\n",
    "symbols = 'ACTG'\n",
    "for i in range(64):\n",
    "    s = ''\n",
    "    for j in range(3):\n",
    "        s += symbols[i % 4]\n",
    "        i /= 4\n",
    "    codons[s] = [0, 0]"
   ]
  },
  {
   "cell_type": "code",
   "execution_count": 54,
   "metadata": {},
   "outputs": [],
   "source": [
    "for seq in fasta:\n",
    "    seq_codons = [seq.seq[i:i + 3] for i in range(0, len(seq.seq) - 3, 3)]\n",
    "    if seq.description.split(';')[2] == 'start_type=ATG':\n",
    "        for codon in seq_codons:\n",
    "            codons[codon][0] += 1\n",
    "    else:\n",
    "        for codon in seq_codons:\n",
    "            codons[codon][1] += 1"
   ]
  },
  {
   "cell_type": "code",
   "execution_count": 56,
   "metadata": {
    "scrolled": true
   },
   "outputs": [
    {
     "data": {
      "text/plain": [
       "{'AAA': [1688716, 1277840],\n",
       " 'AAC': [940371, 813478],\n",
       " 'AAG': [1357951, 1181301],\n",
       " 'AAT': [1188223, 949976],\n",
       " 'ACA': [760177, 630526],\n",
       " 'ACC': [783318, 684065],\n",
       " 'ACG': [622301, 488984],\n",
       " 'ACT': [488269, 381110],\n",
       " 'AGA': [410695, 335567],\n",
       " 'AGC': [572125, 505737],\n",
       " 'AGG': [165172, 138821],\n",
       " 'AGT': [429805, 334168],\n",
       " 'ATA': [637824, 479419],\n",
       " 'ATC': [1414289, 1150327],\n",
       " 'ATG': [1434799, 1028868],\n",
       " 'ATT': [1213714, 952411],\n",
       " 'CAA': [456712, 331691],\n",
       " 'CAC': [332993, 287995],\n",
       " 'CAG': [1108317, 966895],\n",
       " 'CAT': [530723, 416728],\n",
       " 'CCA': [227497, 195823],\n",
       " 'CCC': [365582, 290969],\n",
       " 'CCG': [724182, 612558],\n",
       " 'CCT': [404618, 312534],\n",
       " 'CGA': [135230, 103342],\n",
       " 'CGC': [572520, 491620],\n",
       " 'CGG': [354036, 275269],\n",
       " 'CGT': [584319, 475002],\n",
       " 'CTA': [144862, 98724],\n",
       " 'CTC': [542418, 431263],\n",
       " 'CTG': [1488590, 1278102],\n",
       " 'CTT': [869059, 696903],\n",
       " 'GAA': [1927198, 1561899],\n",
       " 'GAC': [1124785, 974706],\n",
       " 'GAG': [1288331, 1130137],\n",
       " 'GAT': [1545751, 1283172],\n",
       " 'GCA': [1127439, 936053],\n",
       " 'GCC': [1065701, 880282],\n",
       " 'GCG': [744367, 622563],\n",
       " 'GCT': [802649, 635437],\n",
       " 'GGA': [1083258, 838077],\n",
       " 'GGC': [1028553, 928535],\n",
       " 'GGG': [379734, 284874],\n",
       " 'GGT': [868867, 732871],\n",
       " 'GTA': [867434, 677735],\n",
       " 'GTC': [648510, 516637],\n",
       " 'GTG': [982212, 849146],\n",
       " 'GTT': [763610, 622544],\n",
       " 'TAA': [0, 0],\n",
       " 'TAC': [682351, 589842],\n",
       " 'TAG': [0, 0],\n",
       " 'TAT': [1262174, 1006307],\n",
       " 'TCA': [373325, 301665],\n",
       " 'TCC': [549214, 469938],\n",
       " 'TCG': [412767, 299044],\n",
       " 'TCT': [469763, 370700],\n",
       " 'TGA': [462, 714],\n",
       " 'TGC': [354965, 293091],\n",
       " 'TGG': [517224, 418689],\n",
       " 'TGT': [310727, 229621],\n",
       " 'TTA': [552318, 395796],\n",
       " 'TTC': [960210, 786124],\n",
       " 'TTG': [746875, 534065],\n",
       " 'TTT': [1062430, 803348]}"
      ]
     },
     "execution_count": 56,
     "metadata": {},
     "output_type": "execute_result"
    }
   ],
   "source": [
    "codons"
   ]
  },
  {
   "cell_type": "markdown",
   "metadata": {},
   "source": [
    "# Задание 2"
   ]
  },
  {
   "cell_type": "code",
   "execution_count": 10,
   "metadata": {},
   "outputs": [],
   "source": [
    "ptt_file1 = data_path + 'NC_012659.ptt'\n",
    "ptt_file2 = data_path + 'NC_014500.ptt'"
   ]
  },
  {
   "cell_type": "code",
   "execution_count": 30,
   "metadata": {},
   "outputs": [],
   "source": [
    "class Gene:\n",
    "    def __init__(self, line):\n",
    "        self.data = line\n",
    "        self.name = self.data[4]\n",
    "        \n",
    "        \n",
    "    def find(self, line):\n",
    "        return self.data[-1].find(line) != -1\n",
    "        \n",
    "        \n",
    "    def __str__(self):\n",
    "        return self.name + ' - ' + self.data[-1]"
   ]
  },
  {
   "cell_type": "code",
   "execution_count": 34,
   "metadata": {},
   "outputs": [],
   "source": [
    "class Genome:\n",
    "    def __init__(self, path):\n",
    "        with open(path) as f:\n",
    "            lines = f.readlines()\n",
    "        self.name = lines[0].split(',')[0]\n",
    "        self.data = []\n",
    "        for line in lines[3:]:\n",
    "            gene = Gene(line[:-1].split('\\t'))\n",
    "            if gene.name != '-':\n",
    "                self.data.append(gene)\n",
    "            \n",
    "    def __len__(self):\n",
    "        return len(self.data)\n",
    "\n",
    "    \n",
    "    def __str__(self):\n",
    "        return self.name\n",
    "\n",
    "        \n",
    "    def get_functions(self, s):\n",
    "        for gene in self.data:\n",
    "            if gene.find(s):\n",
    "                yield gene\n",
    "                \n",
    "    \n",
    "    def get_common_gene_names(self, other):\n",
    "        names = set()\n",
    "        for gene in self.data:\n",
    "            names.add(gene.name)\n",
    "        ans = set()\n",
    "        for gene in other.data:\n",
    "            if gene.name in names:\n",
    "                ans.add(gene.name)\n",
    "        return ans"
   ]
  },
  {
   "cell_type": "code",
   "execution_count": 36,
   "metadata": {},
   "outputs": [
    {
     "name": "stdout",
     "output_type": "stream",
     "text": [
      "Bacillus anthracis str. A0248 has 1158 genes\n",
      "Dickeya dadantii 3937 chromosome has 2546 genes\n",
      "\n",
      "Bacillus anthracis str. A0248 has csaA - chaperone CsaA\n",
      "Bacillus anthracis str. A0248 has narJ - nitrate reductase molybdenum cofactor assembly chaperone\n",
      "Bacillus anthracis str. A0248 has hscC - chaperone protein hscC\n",
      "Bacillus anthracis str. A0248 has dnaJ - chaperone protein DnaJ\n",
      "Bacillus anthracis str. A0248 has dnaK - molecular chaperone DnaK\n",
      "\n",
      "Dickeya dadantii 3937 chromosome has ibpA - heat shock chaperone\n",
      "Dickeya dadantii 3937 chromosome has ibpB - heat shock chaperone\n",
      "Dickeya dadantii 3937 chromosome has hslU - molecular chaperone and ATPase of HslUV protease\n",
      "Dickeya dadantii 3937 chromosome has hlpA - periplasmic chaperone\n",
      "Dickeya dadantii 3937 chromosome has htpG - molecular chaperone HSP90 family\n",
      "Dickeya dadantii 3937 chromosome has clpA - ATPase and specificity subunit of ClpA-ClpP ATP-dependent serine protease, chaperone activity\n",
      "Dickeya dadantii 3937 chromosome has lolA - chaperone for lipoproteins\n",
      "Dickeya dadantii 3937 chromosome has lolB - chaperone for lipoproteins\n",
      "Dickeya dadantii 3937 chromosome has orfC - HrpW-specific chaperone\n",
      "Dickeya dadantii 3937 chromosome has narJ - molybdenum-cofactor-assembly chaperone subunit (subunit delta) of nitrate reductase 1\n",
      "Dickeya dadantii 3937 chromosome has yegD - chaperone\n",
      "Dickeya dadantii 3937 chromosome has hybE - hydrogenase 2-specific chaperone\n",
      "Dickeya dadantii 3937 chromosome has hscA - chaperone protein hscA\n",
      "Dickeya dadantii 3937 chromosome has hscB - chaperone protein hscB\n",
      "Dickeya dadantii 3937 chromosome has djlA - DnaJ-like membrane chaperone protein\n",
      "Dickeya dadantii 3937 chromosome has dnaJ - chaperone Hsp40, co-chaperone with DnaK\n",
      "Dickeya dadantii 3937 chromosome has dnaK - chaperone protein DnaK\n",
      "Dickeya dadantii 3937 chromosome has hfq - RNA chaperone Hfq\n",
      "Dickeya dadantii 3937 chromosome has secB - protein export chaperone\n",
      "\n",
      "Bacillus anthracis str. A0248 ans Dickeya dadantii 3937 chromosome have 522 genes in common\n"
     ]
    }
   ],
   "source": [
    "genome1 = Genome(ptt_file1)\n",
    "genome2 = Genome(ptt_file2)\n",
    "print(genome1, 'has', len(genome1), 'genes')\n",
    "print(genome2, 'has', len(genome2), 'genes')\n",
    "print()\n",
    "search_string = 'chaperone'\n",
    "for gene in genome1.get_functions(search_string):\n",
    "    print(genome1, 'has', gene)\n",
    "print()\n",
    "for gene in genome2.get_functions(search_string):\n",
    "    print(genome2, 'has', gene)\n",
    "print()\n",
    "common_genes = genome1.get_common_gene_names(genome2)\n",
    "print('%s ans %s have %d genes in common' % (genome1, genome2, len(common_genes)))"
   ]
  },
  {
   "cell_type": "markdown",
   "metadata": {},
   "source": [
    "# Задание 3"
   ]
  },
  {
   "cell_type": "code",
   "execution_count": 37,
   "metadata": {},
   "outputs": [],
   "source": [
    "data = ['GAACTCATGGTG', \n",
    "        'AAAAGCACGGTC',\n",
    "        'TCAAAGCAAGGC',\n",
    "        'CCTAATCAGGGC',\n",
    "        'AAGTATGGACTC',\n",
    "        'ACTAAGCAGGGT',\n",
    "        'TCTCACGGCCCA',\n",
    "        'CCTCGTGGTGGG',\n",
    "        'TACCGTATGGTT',\n",
    "        'ACCACTCGTCGA']\n",
    "l = 8\n",
    "start_pos = [2, 2, 3, 3, 0, 3, 0, 0, 2, 3]"
   ]
  },
  {
   "cell_type": "code",
   "execution_count": 38,
   "metadata": {},
   "outputs": [
    {
     "name": "stdout",
     "output_type": "stream",
     "text": [
      ".GAACTCATGGTG..\n",
      ".AAAAGCACGGTC..\n",
      "TCAAAGCAAGGC...\n",
      "CCTAATCAGGGC...\n",
      "...AAGTATGGACTC\n",
      "ACTAAGCAGGGT...\n",
      "...TCTCACGGCCCA\n",
      "...CCTCGTGGTGGG\n",
      ".TACCGTATGGTT..\n",
      "ACCACTCGTCGA...\n"
     ]
    }
   ],
   "source": [
    "for line, start in zip(data, start_pos):\n",
    "    print('.' * (max(start_pos) - start) + line + '.' * (start - min(start_pos)))"
   ]
  }
 ],
 "metadata": {
  "kernelspec": {
   "display_name": "Python 3",
   "language": "python",
   "name": "python3"
  }
 },
 "nbformat": 4,
 "nbformat_minor": 2
}
