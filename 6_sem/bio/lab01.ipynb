{
 "cells": [
  {
   "cell_type": "markdown",
   "metadata": {},
   "source": [
    "# Рак Алексей"
   ]
  },
  {
   "cell_type": "code",
   "execution_count": 10,
   "metadata": {},
   "outputs": [],
   "source": [
    "from Bio import SeqIO\n",
    "import pandas as pd\n",
    "from matplotlib import pyplot as plt"
   ]
  },
  {
   "cell_type": "code",
   "execution_count": 2,
   "metadata": {},
   "outputs": [],
   "source": [
    "data_path = '/home/alex/Yandex.Disk/BSU/Bio2/Практика 2/data/'"
   ]
  },
  {
   "cell_type": "markdown",
   "metadata": {},
   "source": [
    "# Задание 1"
   ]
  },
  {
   "cell_type": "code",
   "execution_count": 3,
   "metadata": {},
   "outputs": [
    {
     "name": "stdout",
     "output_type": "stream",
     "text": [
      "genes size:  437619\n"
     ]
    }
   ],
   "source": [
    "genes = {}\n",
    "\n",
    "def get_id(s):\n",
    "    idname = s.split('#')[0]\n",
    "    return idname[1:-1]\n",
    "\n",
    "with open(data_path + 'SK926/SK926.fna') as f:\n",
    "    line = f.readline()\n",
    "    idname = get_id(line)\n",
    "    gen = ''\n",
    "    while line:\n",
    "        if line[0] == '>':\n",
    "            genes[idname] = gen\n",
    "            gen = ''\n",
    "            idname = get_id(line)\n",
    "        else:\n",
    "            gen += line[:-1]\n",
    "        line = f.readline()\n",
    "    genes[idname] = gen\n",
    "    print('genes size: ',len(genes))"
   ]
  },
  {
   "cell_type": "code",
   "execution_count": 4,
   "metadata": {},
   "outputs": [
    {
     "name": "stdout",
     "output_type": "stream",
     "text": [
      "dic size 224143\n"
     ]
    }
   ],
   "source": [
    "dic = {}\n",
    "with open(data_path + 'SK926/SK926.blast_swissprot') as f:\n",
    "    for line in f:\n",
    "        t = line.split('\\t')\n",
    "        dic[t[0]] = t[1]\n",
    "print('dic size',len(dic))"
   ]
  },
  {
   "cell_type": "code",
   "execution_count": 5,
   "metadata": {
    "scrolled": true
   },
   "outputs": [
    {
     "name": "stdout",
     "output_type": "stream",
     "text": [
      "Alphaproteobacteria  founded:  1757\n",
      "Clostridiales  founded:  4320\n"
     ]
    }
   ],
   "source": [
    "aname = 'Alphaproteobacteria'\n",
    "cname = 'Clostridiales'\n",
    "A = set()\n",
    "C = set()\n",
    "with open(data_path + 'SK926/swissprot_db.dat') as f:\n",
    "    for line in f:\n",
    "        t = line.split('\\t')\n",
    "        label = t[0];\n",
    "        if t[2].find(aname) != -1:\n",
    "            A.add(label)\n",
    "        if t[2].find(cname) != -1:\n",
    "            C.add(label)\n",
    "print(aname,' founded: ',len(A))\n",
    "print(cname,' founded: ',len(C))"
   ]
  },
  {
   "cell_type": "code",
   "execution_count": 6,
   "metadata": {},
   "outputs": [],
   "source": [
    "def get_codons(s, codons, count):\n",
    "    for i in range(0, len(s) - 2, 3):\n",
    "        if s[i:i + 3] in codons:\n",
    "            codons[s[i:i+3]] += 1\n",
    "        else:\n",
    "            codons[s[i:i+3]] = 0\n",
    "        count += 1\n",
    "    return count"
   ]
  },
  {
   "cell_type": "code",
   "execution_count": 7,
   "metadata": {},
   "outputs": [
    {
     "name": "stdout",
     "output_type": "stream",
     "text": [
      "A codons:  1397702\n",
      "C codons:  6717972\n"
     ]
    }
   ],
   "source": [
    "A_codons = {}\n",
    "C_codons = {}\n",
    "A_count = 0\n",
    "C_count = 0\n",
    "for key in dic.keys():\n",
    "    if dic[key] in A:\n",
    "        A_count = get_codons(genes[key], A_codons, A_count)\n",
    "for key in dic.keys():\n",
    "    if dic[key] in C:\n",
    "        C_count = get_codons(genes[key], C_codons, C_count)\n",
    "        \n",
    "print('A codons: ', A_count)\n",
    "print('C codons: ', C_count)"
   ]
  },
  {
   "cell_type": "code",
   "execution_count": 11,
   "metadata": {},
   "outputs": [
    {
     "name": "stdout",
     "output_type": "stream",
     "text": [
      "\tA\tC\t\n",
      "AAA\t3.0740\t3.3681\n",
      "AAC\t2.0529\t1.9431\n",
      "AAG\t2.7550\t3.7587\n",
      "AAT\t2.1947\t2.1301\n",
      "ACA\t1.4034\t1.9591\n",
      "ACC\t1.8085\t1.6239\n",
      "ACG\t1.3809\t1.0049\n",
      "ACT\t0.9458\t0.8436\n",
      "AGA\t0.6651\t1.3781\n",
      "AGC\t1.2286\t1.1440\n",
      "AGG\t0.3187\t0.2806\n",
      "AGT\t0.8268\t0.6603\n",
      "ATA\t1.1424\t0.9216\n",
      "ATC\t3.4411\t3.5012\n",
      "ATG\t3.0921\t3.0134\n",
      "ATT\t2.5119\t2.5418\n",
      "CAA\t0.8938\t0.3656\n",
      "CAC\t0.7042\t0.7942\n",
      "CAG\t2.5194\t2.6902\n",
      "CAT\t1.0197\t1.1485\n",
      "CCA\t0.4567\t0.6126\n",
      "CCC\t0.8856\t0.6290\n",
      "CCG\t1.7013\t1.6768\n",
      "CCT\t0.8534\t0.7448\n",
      "CGA\t0.2688\t0.1751\n",
      "CGC\t1.3836\t1.1225\n",
      "CGG\t0.7353\t0.5208\n",
      "CGT\t1.2649\t1.2924\n",
      "CTA\t0.2629\t0.1120\n",
      "CTC\t1.3060\t0.9359\n",
      "CTG\t3.5631\t3.1096\n",
      "CTT\t1.7181\t2.2327\n",
      "GAA\t3.7756\t4.1993\n",
      "GAC\t2.4447\t2.5300\n",
      "GAG\t2.6987\t3.7190\n",
      "GAT\t2.9140\t3.6829\n",
      "GCA\t2.3434\t3.1967\n",
      "GCC\t2.7123\t1.8260\n",
      "GCG\t1.7304\t1.5002\n",
      "GCT\t1.7498\t1.7138\n",
      "GGA\t2.1110\t2.4002\n",
      "GGC\t2.4331\t2.5995\n",
      "GGG\t0.7576\t0.5156\n",
      "GGT\t1.9465\t2.1458\n",
      "GTA\t1.8057\t2.0718\n",
      "GTC\t1.5717\t1.2738\n",
      "GTG\t2.4004\t1.9373\n",
      "GTT\t1.5320\t2.0689\n",
      "TAA\t0.1236\t0.1549\n",
      "TAC\t1.4041\t1.3335\n",
      "TAG\t0.0291\t0.0368\n",
      "TAT\t2.2699\t2.1688\n",
      "TCA\t0.6815\t0.7513\n",
      "TCC\t1.3109\t1.1843\n",
      "TCG\t0.9359\t0.4778\n",
      "TCT\t0.9196\t0.8675\n",
      "TGA\t0.0635\t0.0461\n",
      "TGC\t0.7397\t0.8020\n",
      "TGG\t0.9535\t0.6425\n",
      "TGT\t0.5757\t0.6295\n",
      "TTA\t0.9425\t1.0670\n",
      "TTC\t2.2116\t1.6496\n",
      "TTG\t1.5957\t0.7367\n",
      "TTT\t1.9327\t1.8349\n"
     ]
    }
   ],
   "source": [
    "print (\"\\tA\\tC\\t\")\n",
    "keys = []\n",
    "A_values = []\n",
    "C_values = []\n",
    "for key in sorted(A_codons.keys()):\n",
    "    keys.append(key)\n",
    "    A_values.append(A_codons[key]/A_count*100)\n",
    "    C_values.append(C_codons[key]/C_count*100)\n",
    "    print(\"%s\\t%.4f\\t%.4f\" % (key,A_codons[key]/A_count*100,C_codons[key]/C_count*100))"
   ]
  },
  {
   "cell_type": "code",
   "execution_count": 25,
   "metadata": {},
   "outputs": [
    {
     "data": {
      "image/png": "[encoded data removed]",
      "text/plain": [
       "<matplotlib.figure.Figure at 0x7ff20317ff28>"
      ]
     },
     "metadata": {},
     "output_type": "display_data"
    }
   ],
   "source": [
    "fig, axes = plt.subplots(ncols=2, figsize=(16, 5))\n",
    "axes[0].bar(keys, A_values)\n",
    "axes[1].bar(keys, C_values)\n",
    "plt.show()"
   ]
  },
  {
   "cell_type": "markdown",
   "metadata": {},
   "source": [
    "# Задание 2"
   ]
  },
  {
   "cell_type": "code",
   "execution_count": 4,
   "metadata": {},
   "outputs": [],
   "source": [
    "ptt_file1 = data_path + 'NC_012659.ptt'\n",
    "ptt_file2 = data_path + 'NC_014500.ptt'"
   ]
  },
  {
   "cell_type": "code",
   "execution_count": 5,
   "metadata": {},
   "outputs": [],
   "source": [
    "class Gene:\n",
    "    def __init__(self, line):\n",
    "        self.data = line\n",
    "        self.name = self.data[4]\n",
    "        \n",
    "        \n",
    "    def find(self, line):\n",
    "        return self.data[-1].find(line) != -1\n",
    "        \n",
    "        \n",
    "    def __str__(self):\n",
    "        return self.name + ' - ' + self.data[-1]"
   ]
  },
  {
   "cell_type": "code",
   "execution_count": 9,
   "metadata": {},
   "outputs": [],
   "source": [
    "class Genome:\n",
    "    def __init__(self, path):\n",
    "        with open(path) as f:\n",
    "            lines = f.readlines()\n",
    "        self.name = lines[0].split(',')[0]\n",
    "        self.data = []\n",
    "        for line in lines[3:]:\n",
    "            gene = Gene(line[:-1].split('\\t'))\n",
    "            if gene.name != '-':\n",
    "                self.data.append(gene)\n",
    "            \n",
    "    def __len__(self):\n",
    "        return len(self.data)\n",
    "\n",
    "    \n",
    "    def __str__(self):\n",
    "        return self.name\n",
    "\n",
    "        \n",
    "    def get_functions(self, s):\n",
    "        for gene in self.data:\n",
    "            if gene.find(s):\n",
    "                yield gene\n",
    "                \n",
    "    \n",
    "    def get_common_gene_names(self, other):\n",
    "        names = set()\n",
    "        for gene in self.data:\n",
    "            names.add(gene.name)\n",
    "        ans = set()\n",
    "        for gene in other.data:\n",
    "            if gene.name in names:\n",
    "                ans.add(gene.name)\n",
    "        return ans"
   ]
  },
  {
   "cell_type": "code",
   "execution_count": 10,
   "metadata": {},
   "outputs": [
    {
     "name": "stdout",
     "output_type": "stream",
     "text": [
      "Bacillus anthracis str. A0248 has 1158 genes\n",
      "Dickeya dadantii 3937 chromosome has 2546 genes\n",
      "\n",
      "Bacillus anthracis str. A0248 has csaA - chaperone CsaA\n",
      "Bacillus anthracis str. A0248 has narJ - nitrate reductase molybdenum cofactor assembly chaperone\n",
      "Bacillus anthracis str. A0248 has hscC - chaperone protein hscC\n",
      "Bacillus anthracis str. A0248 has dnaJ - chaperone protein DnaJ\n",
      "Bacillus anthracis str. A0248 has dnaK - molecular chaperone DnaK\n",
      "\n",
      "Dickeya dadantii 3937 chromosome has ibpA - heat shock chaperone\n",
      "Dickeya dadantii 3937 chromosome has ibpB - heat shock chaperone\n",
      "Dickeya dadantii 3937 chromosome has hslU - molecular chaperone and ATPase of HslUV protease\n",
      "Dickeya dadantii 3937 chromosome has hlpA - periplasmic chaperone\n",
      "Dickeya dadantii 3937 chromosome has htpG - molecular chaperone HSP90 family\n",
      "Dickeya dadantii 3937 chromosome has clpA - ATPase and specificity subunit of ClpA-ClpP ATP-dependent serine protease, chaperone activity\n",
      "Dickeya dadantii 3937 chromosome has lolA - chaperone for lipoproteins\n",
      "Dickeya dadantii 3937 chromosome has lolB - chaperone for lipoproteins\n",
      "Dickeya dadantii 3937 chromosome has orfC - HrpW-specific chaperone\n",
      "Dickeya dadantii 3937 chromosome has narJ - molybdenum-cofactor-assembly chaperone subunit (subunit delta) of nitrate reductase 1\n",
      "Dickeya dadantii 3937 chromosome has yegD - chaperone\n",
      "Dickeya dadantii 3937 chromosome has hybE - hydrogenase 2-specific chaperone\n",
      "Dickeya dadantii 3937 chromosome has hscA - chaperone protein hscA\n",
      "Dickeya dadantii 3937 chromosome has hscB - chaperone protein hscB\n",
      "Dickeya dadantii 3937 chromosome has djlA - DnaJ-like membrane chaperone protein\n",
      "Dickeya dadantii 3937 chromosome has dnaJ - chaperone Hsp40, co-chaperone with DnaK\n",
      "Dickeya dadantii 3937 chromosome has dnaK - chaperone protein DnaK\n",
      "Dickeya dadantii 3937 chromosome has hfq - RNA chaperone Hfq\n",
      "Dickeya dadantii 3937 chromosome has secB - protein export chaperone\n",
      "\n",
      "Bacillus anthracis str. A0248 ans Dickeya dadantii 3937 chromosome have 522 genes in common\n"
     ]
    }
   ],
   "source": [
    "genome1 = Genome(ptt_file1)\n",
    "genome2 = Genome(ptt_file2)\n",
    "print(genome1, 'has', len(genome1), 'genes')\n",
    "print(genome2, 'has', len(genome2), 'genes')\n",
    "print()\n",
    "search_string = 'chaperone'\n",
    "for gene in genome1.get_functions(search_string):\n",
    "    print(genome1, 'has', gene)\n",
    "print()\n",
    "for gene in genome2.get_functions(search_string):\n",
    "    print(genome2, 'has', gene)\n",
    "print()\n",
    "common_genes = genome1.get_common_gene_names(genome2)\n",
    "print('%s ans %s have %d genes in common' % (genome1, genome2, len(common_genes)))"
   ]
  }
 ],
 "metadata": {
  "kernelspec": {
   "display_name": "Python 3",
   "language": "python",
   "name": "python3"
  },
  "language_info": {
   "codemirror_mode": {
    "name": "ipython",
    "version": 3
   },
   "file_extension": ".py",
   "mimetype": "text/x-python",
   "name": "python",
   "nbconvert_exporter": "python",
   "pygments_lexer": "ipython3",
   "version": "3.5.2"
  }
 },
 "nbformat": 4,
 "nbformat_minor": 2
}
