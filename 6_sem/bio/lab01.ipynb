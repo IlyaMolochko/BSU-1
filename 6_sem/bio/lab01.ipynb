{
 "cells": [
  {
   "cell_type": "markdown",
   "metadata": {},
   "source": [
    "# Рак Алексей"
   ]
  },
  {
   "cell_type": "code",
   "execution_count": 1,
   "metadata": {},
   "outputs": [],
   "source": [
    "from Bio import SeqIO\n",
    "import pandas as pd"
   ]
  },
  {
   "cell_type": "code",
   "execution_count": 6,
   "metadata": {},
   "outputs": [],
   "source": [
    "data_path = '/home/alex/Yandex.Disk/BSU/Bio2/Практика 2/data/'"
   ]
  },
  {
   "cell_type": "markdown",
   "metadata": {},
   "source": [
    "# Задание 1"
   ]
  },
  {
   "cell_type": "code",
   "execution_count": 14,
   "metadata": {},
   "outputs": [
    {
     "name": "stdout",
     "output_type": "stream",
     "text": [
      "genes size:  437618\n"
     ]
    }
   ],
   "source": [
    "genes = {}\n",
    "\n",
    "def get_id(s):\n",
    "    idname = s.split('#')[0]\n",
    "    return idname[1:-1]\n",
    "\n",
    "with open(data_path + 'SK926/SK926.fna') as f:\n",
    "    line = f.readline()\n",
    "    idname = get_id(line)\n",
    "    gen = ''\n",
    "    while line:\n",
    "        if line[0] == '>':\n",
    "            genes[idname] = gen\n",
    "            gen = ''\n",
    "            idname = get_id(line)\n",
    "        else:\n",
    "            gen += line[:-1]\n",
    "        line = f.readline()\n",
    "    print('genes size: ',len(genes))"
   ]
  },
  {
   "cell_type": "code",
   "execution_count": 15,
   "metadata": {},
   "outputs": [
    {
     "name": "stdout",
     "output_type": "stream",
     "text": [
      "dic size 45658\n"
     ]
    }
   ],
   "source": [
    "dic = {}\n",
    "with open(data_path + 'SK926/SK926.blast_swissprot') as f:\n",
    "    for line in f:\n",
    "        t = line.split('\\t')\n",
    "        dic[t[1]] = t[0]\n",
    "print('dic size',len(dic))"
   ]
  },
  {
   "cell_type": "code",
   "execution_count": 16,
   "metadata": {
    "scrolled": true
   },
   "outputs": [
    {
     "name": "stdout",
     "output_type": "stream",
     "text": [
      "Alphaproteobacteria  founded:  1757\n",
      "Clostridiales  founded:  4320\n"
     ]
    }
   ],
   "source": [
    "aname = 'Alphaproteobacteria'\n",
    "cname = 'Clostridiales'\n",
    "A = set()\n",
    "C = set()\n",
    "with open(data_path + 'SK926/swissprot_db.dat') as f:\n",
    "    for line in f:\n",
    "        t = line.split('\\t')\n",
    "        label = t[0];\n",
    "        if t[2].find(aname) != -1:\n",
    "            A.add(label)\n",
    "        if t[2].find(cname) != -1:\n",
    "            C.add(label)\n",
    "print(aname,' founded: ',len(A))\n",
    "print(cname,' founded: ',len(C))"
   ]
  },
  {
   "cell_type": "code",
   "execution_count": 18,
   "metadata": {},
   "outputs": [],
   "source": [
    "def get_codons(s, codons, count):\n",
    "    for i in range(0, len(s) - 2, 3):\n",
    "        if s[i:i + 3] in codons:\n",
    "            codons[s[i:i+3]] += 1\n",
    "        else:\n",
    "            codons[s[i:i+3]] = 0\n",
    "        count += 1\n",
    "    return count"
   ]
  },
  {
   "cell_type": "code",
   "execution_count": 19,
   "metadata": {},
   "outputs": [
    {
     "name": "stdout",
     "output_type": "stream",
     "text": [
      "A codons:  280199\n",
      "C codons:  563167\n"
     ]
    }
   ],
   "source": [
    "A_codons = {}\n",
    "C_codons = {}\n",
    "A_count = 0\n",
    "C_count = 0\n",
    "for a in A:\n",
    "    if a in dic and dic[a] in genes:\n",
    "        A_count = get_codons(genes[dic[a]], A_codons, A_count)\n",
    "for c in C:\n",
    "    if c in dic and dic[c] in genes:\n",
    "        C_count = get_codons(genes[dic[c]], C_codons, C_count)\n",
    "        \n",
    "print('A codons: ', A_count)\n",
    "print('C codons: ', C_count)"
   ]
  },
  {
   "cell_type": "code",
   "execution_count": 25,
   "metadata": {},
   "outputs": [
    {
     "name": "stdout",
     "output_type": "stream",
     "text": [
      "\tA\tC\t\n",
      "ACT\t0.0083\t0.0083\n",
      "AGA\t0.0073\t0.0127\n",
      "ATG\t0.0289\t0.0298\n",
      "GAT\t0.0287\t0.0327\n",
      "CGG\t0.0088\t0.0063\n",
      "CCT\t0.0078\t0.0075\n",
      "GTG\t0.0241\t0.0214\n",
      "GAA\t0.0377\t0.0414\n",
      "GGT\t0.0165\t0.0193\n",
      "CTG\t0.0378\t0.0321\n",
      "AAT\t0.0198\t0.0197\n",
      "GCC\t0.0300\t0.0231\n",
      "TAC\t0.0137\t0.0136\n",
      "CAA\t0.0082\t0.0054\n",
      "TCC\t0.0142\t0.0120\n",
      "CCC\t0.0103\t0.0091\n",
      "AGC\t0.0128\t0.0129\n",
      "TGA\t0.0008\t0.0007\n",
      "AAA\t0.0291\t0.0320\n",
      "TGG\t0.0097\t0.0062\n",
      "ATA\t0.0103\t0.0115\n",
      "GTT\t0.0154\t0.0209\n",
      "GAG\t0.0296\t0.0346\n",
      "GAC\t0.0270\t0.0283\n",
      "CAT\t0.0112\t0.0104\n",
      "AGG\t0.0035\t0.0033\n",
      "CTT\t0.0176\t0.0209\n",
      "TCG\t0.0085\t0.0052\n",
      "CGT\t0.0114\t0.0116\n",
      "ACC\t0.0191\t0.0184\n",
      "AAG\t0.0282\t0.0386\n",
      "TAG\t0.0003\t0.0004\n",
      "CAG\t0.0251\t0.0251\n",
      "GTC\t0.0168\t0.0152\n",
      "GCA\t0.0217\t0.0268\n",
      "CCA\t0.0047\t0.0052\n",
      "GGA\t0.0191\t0.0189\n",
      "CCG\t0.0178\t0.0140\n",
      "ATC\t0.0317\t0.0324\n",
      "ATT\t0.0238\t0.0248\n",
      "GCG\t0.0204\t0.0171\n",
      "TTG\t0.0130\t0.0080\n",
      "TAA\t0.0014\t0.0018\n",
      "ACA\t0.0126\t0.0160\n",
      "TTC\t0.0210\t0.0163\n",
      "TTT\t0.0193\t0.0176\n",
      "TCT\t0.0083\t0.0079\n",
      "GGG\t0.0088\t0.0063\n",
      "TAT\t0.0203\t0.0198\n",
      "TGC\t0.0092\t0.0096\n",
      "TGT\t0.0054\t0.0056\n",
      "CAC\t0.0092\t0.0090\n",
      "GCT\t0.0167\t0.0183\n",
      "CTA\t0.0024\t0.0015\n",
      "TCA\t0.0063\t0.0071\n",
      "GTA\t0.0141\t0.0172\n",
      "CGC\t0.0172\t0.0151\n",
      "AAC\t0.0195\t0.0198\n",
      "TTA\t0.0092\t0.0103\n",
      "CTC\t0.0146\t0.0116\n",
      "GGC\t0.0302\t0.0326\n",
      "CGA\t0.0030\t0.0018\n",
      "ACG\t0.0139\t0.0109\n",
      "AGT\t0.0067\t0.0060\n"
     ]
    }
   ],
   "source": [
    "print (\"\\tA\\tC\\t\")\n",
    "for key in A_codons.keys():\n",
    "    print(\"%s\\t%.4f\\t%.4f\" % (key,A_codons[key]/A_count,C_codons[key]/C_count))"
   ]
  },
  {
   "cell_type": "markdown",
   "metadata": {},
   "source": [
    "# Задание 2"
   ]
  },
  {
   "cell_type": "code",
   "execution_count": 26,
   "metadata": {},
   "outputs": [],
   "source": [
    "ptt_file1 = data_path + 'NC_012659.ptt'\n",
    "ptt_file2 = data_path + 'NC_014500.ptt'"
   ]
  },
  {
   "cell_type": "code",
   "execution_count": 27,
   "metadata": {},
   "outputs": [],
   "source": [
    "class Gene:\n",
    "    def __init__(self, line):\n",
    "        self.data = line\n",
    "        self.name = self.data[4]\n",
    "        \n",
    "        \n",
    "    def find(self, line):\n",
    "        return self.data[-1].find(line) != -1\n",
    "        \n",
    "        \n",
    "    def __str__(self):\n",
    "        return self.name + ' - ' + self.data[-1]"
   ]
  },
  {
   "cell_type": "code",
   "execution_count": 28,
   "metadata": {},
   "outputs": [],
   "source": [
    "class Genome:\n",
    "    def __init__(self, path):\n",
    "        with open(path) as f:\n",
    "            lines = f.readlines()\n",
    "        self.name = lines[0].split(',')[0]\n",
    "        self.data = []\n",
    "        for line in lines[3:]:\n",
    "            gene = Gene(line[:-1].split('\\t'))\n",
    "            if gene.name != '-':\n",
    "                self.data.append(gene)\n",
    "            \n",
    "    def __len__(self):\n",
    "        return len(self.data)\n",
    "\n",
    "    \n",
    "    def __str__(self):\n",
    "        return self.name\n",
    "\n",
    "        \n",
    "    def get_functions(self, s):\n",
    "        for gene in self.data:\n",
    "            if gene.find(s):\n",
    "                yield gene\n",
    "                \n",
    "    \n",
    "    def get_common_gene_names(self, other):\n",
    "        names = set()\n",
    "        for gene in self.data:\n",
    "            names.add(gene.name)\n",
    "        ans = set()\n",
    "        for gene in other.data:\n",
    "            if gene.name in names:\n",
    "                ans.add(gene.name)\n",
    "        return ans"
   ]
  },
  {
   "cell_type": "code",
   "execution_count": 29,
   "metadata": {},
   "outputs": [
    {
     "name": "stdout",
     "output_type": "stream",
     "text": [
      "Bacillus anthracis str. A0248 has 1158 genes\n",
      "Dickeya dadantii 3937 chromosome has 2546 genes\n",
      "\n",
      "Bacillus anthracis str. A0248 has csaA - chaperone CsaA\n",
      "Bacillus anthracis str. A0248 has narJ - nitrate reductase molybdenum cofactor assembly chaperone\n",
      "Bacillus anthracis str. A0248 has hscC - chaperone protein hscC\n",
      "Bacillus anthracis str. A0248 has dnaJ - chaperone protein DnaJ\n",
      "Bacillus anthracis str. A0248 has dnaK - molecular chaperone DnaK\n",
      "\n",
      "Dickeya dadantii 3937 chromosome has ibpA - heat shock chaperone\n",
      "Dickeya dadantii 3937 chromosome has ibpB - heat shock chaperone\n",
      "Dickeya dadantii 3937 chromosome has hslU - molecular chaperone and ATPase of HslUV protease\n",
      "Dickeya dadantii 3937 chromosome has hlpA - periplasmic chaperone\n",
      "Dickeya dadantii 3937 chromosome has htpG - molecular chaperone HSP90 family\n",
      "Dickeya dadantii 3937 chromosome has clpA - ATPase and specificity subunit of ClpA-ClpP ATP-dependent serine protease, chaperone activity\n",
      "Dickeya dadantii 3937 chromosome has lolA - chaperone for lipoproteins\n",
      "Dickeya dadantii 3937 chromosome has lolB - chaperone for lipoproteins\n",
      "Dickeya dadantii 3937 chromosome has orfC - HrpW-specific chaperone\n",
      "Dickeya dadantii 3937 chromosome has narJ - molybdenum-cofactor-assembly chaperone subunit (subunit delta) of nitrate reductase 1\n",
      "Dickeya dadantii 3937 chromosome has yegD - chaperone\n",
      "Dickeya dadantii 3937 chromosome has hybE - hydrogenase 2-specific chaperone\n",
      "Dickeya dadantii 3937 chromosome has hscA - chaperone protein hscA\n",
      "Dickeya dadantii 3937 chromosome has hscB - chaperone protein hscB\n",
      "Dickeya dadantii 3937 chromosome has djlA - DnaJ-like membrane chaperone protein\n",
      "Dickeya dadantii 3937 chromosome has dnaJ - chaperone Hsp40, co-chaperone with DnaK\n",
      "Dickeya dadantii 3937 chromosome has dnaK - chaperone protein DnaK\n",
      "Dickeya dadantii 3937 chromosome has hfq - RNA chaperone Hfq\n",
      "Dickeya dadantii 3937 chromosome has secB - protein export chaperone\n",
      "\n",
      "Bacillus anthracis str. A0248 ans Dickeya dadantii 3937 chromosome have 522 genes in common\n"
     ]
    }
   ],
   "source": [
    "genome1 = Genome(ptt_file1)\n",
    "genome2 = Genome(ptt_file2)\n",
    "print(genome1, 'has', len(genome1), 'genes')\n",
    "print(genome2, 'has', len(genome2), 'genes')\n",
    "print()\n",
    "search_string = 'chaperone'\n",
    "for gene in genome1.get_functions(search_string):\n",
    "    print(genome1, 'has', gene)\n",
    "print()\n",
    "for gene in genome2.get_functions(search_string):\n",
    "    print(genome2, 'has', gene)\n",
    "print()\n",
    "common_genes = genome1.get_common_gene_names(genome2)\n",
    "print('%s ans %s have %d genes in common' % (genome1, genome2, len(common_genes)))"
   ]
  },
  {
   "cell_type": "markdown",
   "metadata": {},
   "source": [
    "# Задание 3"
   ]
  },
  {
   "cell_type": "code",
   "execution_count": 30,
   "metadata": {},
   "outputs": [],
   "source": [
    "data = ['GAACTCATGGTG', \n",
    "        'AAAAGCACGGTC',\n",
    "        'TCAAAGCAAGGC',\n",
    "        'CCTAATCAGGGC',\n",
    "        'AAGTATGGACTC',\n",
    "        'ACTAAGCAGGGT',\n",
    "        'TCTCACGGCCCA',\n",
    "        'CCTCGTGGTGGG',\n",
    "        'TACCGTATGGTT',\n",
    "        'ACCACTCGTCGA']\n",
    "l = 8\n",
    "start_pos = [2, 2, 3, 3, 0, 3, 0, 0, 2, 3]"
   ]
  },
  {
   "cell_type": "code",
   "execution_count": 31,
   "metadata": {},
   "outputs": [
    {
     "name": "stdout",
     "output_type": "stream",
     "text": [
      ".GAACTCATGGTG..\n",
      ".AAAAGCACGGTC..\n",
      "TCAAAGCAAGGC...\n",
      "CCTAATCAGGGC...\n",
      "...AAGTATGGACTC\n",
      "ACTAAGCAGGGT...\n",
      "...TCTCACGGCCCA\n",
      "...CCTCGTGGTGGG\n",
      ".TACCGTATGGTT..\n",
      "ACCACTCGTCGA...\n"
     ]
    }
   ],
   "source": [
    "for line, start in zip(data, start_pos):\n",
    "    print('.' * (max(start_pos) - start) + line + '.' * (start - min(start_pos)))"
   ]
  }
 ],
 "metadata": {
  "kernelspec": {
   "display_name": "Python 3",
   "language": "python",
   "name": "python3"
  },
  "language_info": {
   "codemirror_mode": {
    "name": "ipython",
    "version": 3
   },
   "file_extension": ".py",
   "mimetype": "text/x-python",
   "name": "python",
   "nbconvert_exporter": "python",
   "pygments_lexer": "ipython3",
   "version": "3.5.2"
  }
 },
 "nbformat": 4,
 "nbformat_minor": 2
}
