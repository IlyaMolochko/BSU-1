{
 "cells": [
  {
   "cell_type": "markdown",
   "metadata": {},
   "source": [
    "# Task 3"
   ]
  },
  {
   "cell_type": "markdown",
   "metadata": {},
   "source": [
    "String: abcdabscabcdabia\n",
    "\n",
    "Prefix: 0000120012345601\n",
    "\n",
    "Stop-symbol table: a-12, b-13, c-10, d-11, i-14, s-6\n",
    "\n",
    "Suffix-table:\n",
    "\n",
    "[pass] 1\n",
    "\n",
    "a 3\n",
    "\n",
    "ia 15\n",
    "\n",
    "bia 15\n",
    "\n",
    "abia 15\n",
    "\n",
    "dabia 15\n",
    "\n",
    "cdabia 15\n",
    "\n",
    "bcdabia 15\n",
    "\n",
    "abcdabia 15\n",
    "\n",
    "cabcdabia 15\n",
    "\n",
    "scabcdabia 15\n",
    "\n",
    "bscabcdabia 15\n",
    "\n",
    "abscabcdabia 15\n",
    "\n",
    "dabscabcdabia 15\n",
    "\n",
    "cdabscabcdabia 15\n",
    "\n",
    "bcdabscabcdabia 15\n",
    "\n",
    "abcdabscabcdabia 15"
   ]
  },
  {
   "cell_type": "markdown",
   "metadata": {},
   "source": [
    "# Task 4"
   ]
  },
  {
   "cell_type": "markdown",
   "metadata": {},
   "source": [
    "# Task 5"
   ]
  }
 ],
 "metadata": {
  "kernelspec": {
   "display_name": "Python 3",
   "language": "python",
   "name": "python3"
  },
  "language_info": {
   "codemirror_mode": {
    "name": "ipython",
    "version": 3
   },
   "file_extension": ".py",
   "mimetype": "text/x-python",
   "name": "python",
   "nbconvert_exporter": "python",
   "pygments_lexer": "ipython3",
   "version": "3.5.2"
  }
 },
 "nbformat": 4,
 "nbformat_minor": 2
}
