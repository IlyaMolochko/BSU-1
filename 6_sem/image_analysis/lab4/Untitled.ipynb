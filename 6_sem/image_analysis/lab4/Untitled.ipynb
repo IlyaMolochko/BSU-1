{
 "cells": [
  {
   "cell_type": "code",
   "execution_count": 25,
   "metadata": {},
   "outputs": [],
   "source": [
    "from skimage import io as skio\n",
    "from skimage.filters import threshold_mean\n",
    "from skimage import morphology as skmo\n",
    "from matplotlib import  pyplot as plt\n",
    "import numpy as np"
   ]
  },
  {
   "cell_type": "code",
   "execution_count": 61,
   "metadata": {},
   "outputs": [],
   "source": [
    "img = skio.imread('thumbnail.jpeg', as_grey=True)\n",
    "binary = img > threshold_mean(img)"
   ]
  },
  {
   "cell_type": "code",
   "execution_count": 56,
   "metadata": {},
   "outputs": [
    {
     "data": {
      "text/plain": [
       "<matplotlib.image.AxesImage at 0x7f347dbc2ba8>"
      ]
     },
     "execution_count": 56,
     "metadata": {},
     "output_type": "execute_result"
    },
    {
     "data": {
      "image/png": "[encoded data removed]",
      "text/plain": [
       "<matplotlib.figure.Figure at 0x7f347dc3aef0>"
      ]
     },
     "metadata": {},
     "output_type": "display_data"
    }
   ],
   "source": [
    "plt.imshow(binary, cmap=plt.cm.gray)"
   ]
  },
  {
   "cell_type": "code",
   "execution_count": 57,
   "metadata": {},
   "outputs": [],
   "source": [
    "A = [np.array([[1, 1, 1], [0, 1, 0], [0, 0, 0]]), \n",
    "     np.array([[1, 0, 0], [1, 1, 0], [1, 0, 0]]),\n",
    "     np.array([[0, 0, 0], [0, 1, 0], [1, 1, 1]]),\n",
    "     np.array([[0, 0, 1], [0, 1, 1], [0, 0, 1]]),\n",
    "     np.array([[0, 1, 0], [0, 1, 1], [0, 0, 0]]),\n",
    "     np.array([[0, 1, 0], [1, 1, 0], [0, 0, 0]]),\n",
    "     np.array([[0, 0, 0], [1, 1, 0], [0, 1, 0]]),\n",
    "     np.array([[0, 0, 0], [0, 1, 1], [0, 1, 0]])]\n",
    "B = [np.array([[0, 0, 0], [0, 0, 0], [1, 1, 1]]), \n",
    "     np.array([[0, 0, 1], [0, 0, 1], [0, 0, 1]]),\n",
    "     np.array([[1, 1, 1], [0, 0, 0], [0, 0, 0]]),\n",
    "     np.array([[1, 0, 0], [1, 0, 0], [1, 0, 0]]),\n",
    "     np.array([[0, 0, 0], [1, 0, 0], [1, 1, 0]]),\n",
    "     np.array([[0, 0, 0], [0, 0, 1], [0, 1, 1]]),\n",
    "     np.array([[0, 1, 1], [0, 0, 1], [0, 0, 1]]),\n",
    "     np.array([[1, 1, 0], [1, 0, 0], [0, 0, 0]])]"
   ]
  },
  {
   "cell_type": "code",
   "execution_count": 58,
   "metadata": {},
   "outputs": [],
   "source": [
    "def iteration(img, A, B):\n",
    "    for i in range(8):\n",
    "        img = (img & ~(skmo.erosion(img, selem=A[i]) & ~skmo.dilation(img, selem=-B[i])))\n",
    "    return img"
   ]
  },
  {
   "cell_type": "code",
   "execution_count": 64,
   "metadata": {},
   "outputs": [],
   "source": [
    "for i in range(200):\n",
    "    binary = iteration(binary, A, B)"
   ]
  },
  {
   "cell_type": "code",
   "execution_count": 65,
   "metadata": {},
   "outputs": [
    {
     "data": {
      "text/plain": [
       "<matplotlib.image.AxesImage at 0x7f347daf72b0>"
      ]
     },
     "execution_count": 65,
     "metadata": {},
     "output_type": "execute_result"
    },
    {
     "data": {
      "image/png": "[encoded data removed]",
      "text/plain": [
       "<matplotlib.figure.Figure at 0x7f347db96b38>"
      ]
     },
     "metadata": {},
     "output_type": "display_data"
    }
   ],
   "source": [
    "plt.imshow(binary, cmap=plt.cm.gray)"
   ]
  }
 ],
 "metadata": {
  "kernelspec": {
   "display_name": "Python 3",
   "language": "python",
   "name": "python3"
  },
  "language_info": {
   "codemirror_mode": {
    "name": "ipython",
    "version": 3
   },
   "file_extension": ".py",
   "mimetype": "text/x-python",
   "name": "python",
   "nbconvert_exporter": "python",
   "pygments_lexer": "ipython3",
   "version": "3.5.2"
  }
 },
 "nbformat": 4,
 "nbformat_minor": 2
}
