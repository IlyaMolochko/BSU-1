{
 "cells": [
  {
   "cell_type": "code",
   "execution_count": 1,
   "metadata": {},
   "outputs": [],
   "source": [
    "import numpy as np\n",
    "from skimage import io as skio\n",
    "\n",
    "from matplotlib import pyplot as plt"
   ]
  },
  {
   "cell_type": "code",
   "execution_count": 41,
   "metadata": {},
   "outputs": [],
   "source": [
    "img1 = skio.imread('1016-cat.jpg', as_grey=True)\n",
    "img1 = (img1 * 256).astype(int)\n",
    "img1[img1 == 256] = 255\n",
    "\n",
    "with open('Pelvis_380_300_31_16bit_roi.raw', 'rb') as fin:\n",
    "    img2 = np.fromfile(fin, dtype=np.int16)\n",
    "img2 = img2.reshape(380, 300, 31)"
   ]
  },
  {
   "cell_type": "code",
   "execution_count": 28,
   "metadata": {},
   "outputs": [],
   "source": [
    "def matrix(img, bins=16, bits=8):\n",
    "    in_bin = (2 ** bits) // bins\n",
    "    result = np.zeros((bins, bins))\n",
    "    img = img.copy()\n",
    "    img //= in_bin\n",
    "    for i in range(img.shape[0]):\n",
    "        for j in range(img.shape[1]):\n",
    "            if i + 1 < img.shape[0]:\n",
    "                result[img[i, j], img[i + 1, j]] += 1\n",
    "            if j + 1 < img.shape[1]:\n",
    "                if i + 1 < img.shape[0]:\n",
    "                    result[img[i, j], img[i + 1, j + 1]] += 1\n",
    "                result[img[i, j], img[i, j + 1]] += 1\n",
    "                if i > 0:\n",
    "                    result[img[i, j], img[i - 1, j + 1]] += 1\n",
    "    return result"
   ]
  },
  {
   "cell_type": "code",
   "execution_count": 29,
   "metadata": {},
   "outputs": [],
   "source": [
    "matrix1 = matrix(img1)"
   ]
  },
  {
   "cell_type": "code",
   "execution_count": 30,
   "metadata": {},
   "outputs": [],
   "source": [
    "matrix2 = matrix(img1, bins=256, bits=8)"
   ]
  },
  {
   "cell_type": "code",
   "execution_count": 39,
   "metadata": {},
   "outputs": [],
   "source": [
    "def matrix3d(img, bins=16, bits=12):\n",
    "    in_bin = (2 ** bits) // bins\n",
    "    result = np.zeros((bins, bins))\n",
    "    img = img.copy()\n",
    "    img //= in_bin\n",
    "    for i in range(img.shape[0]):\n",
    "        for j in range(img.shape[1]):\n",
    "            for k in range(img.shape[2]):\n",
    "                if i + 1 < img.shape[0]:\n",
    "                    result[img[i, j, k], img[i + 1, j, k]] += 1\n",
    "                    if k > 0:\n",
    "                        result[img[i, j, k], img[i + 1, j, k - 1]] += 1\n",
    "                    if k + 1 < img.shape[2]:\n",
    "                        result[img[i, j, k], img[i + 1, j, k + 1]] += 1\n",
    "                    if j > 0:\n",
    "                        result[img[i, j, k], img[i + 1, j - 1, k]] += 1\n",
    "                        if k > 0:\n",
    "                            result[img[i, j, k], img[i + 1, j - 1, k - 1]] += 1\n",
    "                        if k + 1 < img.shape[2]:\n",
    "                            result[img[i, j, k], img[i + 1, j - 1, k + 1]] += 1\n",
    "                    if j + 1 < img.shape[1]:\n",
    "                        result[img[i, j, k], img[i + 1, j + 1, k]] += 1\n",
    "                        if k > 0:\n",
    "                            result[img[i, j, k], img[i + 1, j + 1, k - 1]] += 1\n",
    "                        if k + 1 < img.shape[2]:\n",
    "                            result[img[i, j, k], img[i + 1, j + 1, k + 1]] += 1\n",
    "                if j + 1 < img.shape[1]:\n",
    "                    result[img[i, j, k], img[i, j + 1, k]] += 1\n",
    "                    if k > 0:\n",
    "                        result[img[i, j, k], img[i, j + 1, k - 1]] += 1\n",
    "                    if k + 1 < img.shape[2]:\n",
    "                        result[img[i, j, k], img[i, j + 1, k + 1]] += 1\n",
    "                if k + 1 < img.shape[2]:\n",
    "                    result[img[i, j, k], img[i, j, k + 1]] += 2\n",
    "    return result"
   ]
  },
  {
   "cell_type": "code",
   "execution_count": 42,
   "metadata": {},
   "outputs": [],
   "source": [
    "matrix3 = matrix3d(img2)"
   ]
  },
  {
   "cell_type": "code",
   "execution_count": 43,
   "metadata": {},
   "outputs": [
    {
     "data": {
      "text/plain": [
       "<matplotlib.image.AxesImage at 0x7fd88f4704e0>"
      ]
     },
     "execution_count": 43,
     "metadata": {},
     "output_type": "execute_result"
    },
    {
     "data": {
      "image/png": "[encoded data removed]",
      "text/plain": [
       "<Figure size 864x432 with 3 Axes>"
      ]
     },
     "metadata": {},
     "output_type": "display_data"
    }
   ],
   "source": [
    "fig, axes = plt.subplots(1, 3, figsize=(12, 6))\n",
    "axes[0].imshow(matrix1)\n",
    "axes[1].imshow(matrix2)\n",
    "axes[2].imshow(matrix3)"
   ]
  }
 ],
 "metadata": {
  "kernelspec": {
   "display_name": "Python 3",
   "language": "python",
   "name": "python3"
  },
  "language_info": {
   "codemirror_mode": {
    "name": "ipython",
    "version": 3
   },
   "file_extension": ".py",
   "mimetype": "text/x-python",
   "name": "python",
   "nbconvert_exporter": "python",
   "pygments_lexer": "ipython3",
   "version": "3.5.2"
  }
 },
 "nbformat": 4,
 "nbformat_minor": 2
}
