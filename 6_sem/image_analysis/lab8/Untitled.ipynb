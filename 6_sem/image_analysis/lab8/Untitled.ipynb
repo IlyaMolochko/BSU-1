{
 "cells": [
  {
   "cell_type": "code",
   "execution_count": 13,
   "metadata": {},
   "outputs": [],
   "source": [
    "import torch\n",
    "import torch.optim as optim\n",
    "import torchvision\n",
    "from torchvision import transforms, datasets, models\n",
    "import torch.nn as nn\n",
    "import torch.nn.functional as F\n",
    "import torch.utils.data as data_utils\n",
    "from torch.autograd import Variable\n",
    "\n",
    "import pandas as pd\n",
    "import numpy as np\n",
    "import os\n",
    "\n",
    "from tqdm import tqdm\n",
    "\n",
    "from skimage import io as skio\n",
    "from skimage import transform as sktr\n",
    "from skimage import color as skco\n",
    "\n",
    "from IPython.display import clear_output\n",
    "import matplotlib.pyplot as plt"
   ]
  },
  {
   "cell_type": "code",
   "execution_count": 40,
   "metadata": {},
   "outputs": [],
   "source": [
    "cuda_device=4\n",
    "batch_size=50"
   ]
  },
  {
   "cell_type": "code",
   "execution_count": 3,
   "metadata": {},
   "outputs": [],
   "source": [
    "train = pd.read_csv('train_ready.csv')\n",
    "val = pd.read_csv('valid_ready.csv')\n",
    "test = pd.read_csv('test_ready.csv')"
   ]
  },
  {
   "cell_type": "code",
   "execution_count": 49,
   "metadata": {},
   "outputs": [],
   "source": [
    "net = models.resnet50(pretrained=True)\n",
    "for param in net.parameters():\n",
    "    param.requires_grad = False\n",
    "num_ftrs = net.fc.in_features\n",
    "net.fc = torch.nn.Sequential(torch.nn.Linear(num_ftrs, 100),\n",
    "                             torch.nn.Dropout(),\n",
    "                             torch.nn.LeakyReLU(),\n",
    "                             torch.nn.Linear(100, 2))\n",
    "net = net.cuda(cuda_device)\n",
    "opt = optim.Adam(net.fc.parameters())"
   ]
  },
  {
   "cell_type": "code",
   "execution_count": 36,
   "metadata": {},
   "outputs": [],
   "source": [
    "X_train = []\n",
    "X_val = []\n",
    "X_test = []\n",
    "y_train = []\n",
    "y_val = []\n",
    "y_test = []"
   ]
  },
  {
   "cell_type": "code",
   "execution_count": 7,
   "metadata": {},
   "outputs": [],
   "source": [
    "files = set(os.listdir('data'))"
   ]
  },
  {
   "cell_type": "code",
   "execution_count": 35,
   "metadata": {},
   "outputs": [],
   "source": [
    "def get_image(path):\n",
    "    return skco.gray2rgb(sktr.resize(skio.imread(path), (224, 224)))"
   ]
  },
  {
   "cell_type": "code",
   "execution_count": 37,
   "metadata": {},
   "outputs": [
    {
     "name": "stderr",
     "output_type": "stream",
     "text": [
      "  0%|          | 0/68527 [00:00<?, ?it/s]/usr/local/lib/python3.5/dist-packages/skimage/transform/_warps.py:84: UserWarning: The default mode, 'constant', will be changed to 'reflect' in skimage 0.15.\n",
      "  warn(\"The default mode, 'constant', will be changed to 'reflect' in \"\n",
      "100%|██████████| 68527/68527 [00:07<00:00, 9716.85it/s]\n",
      "100%|██████████| 16842/16842 [00:01<00:00, 10409.70it/s]\n",
      "100%|██████████| 17241/17241 [00:01<00:00, 9342.72it/s]\n"
     ]
    }
   ],
   "source": [
    "for i in tqdm(range(train.shape[0])):\n",
    "    if train.loc[i, 'filename'].split('\\\\')[-1] in files:\n",
    "        X_train.append(get_image('data/' + train.loc[i, 'filename'].split('\\\\')[-1]))\n",
    "        y_train.append(train.loc[i, 'label'])\n",
    "        \n",
    "for i in tqdm(range(val.shape[0])):\n",
    "    if val.loc[i, 'filename'].split('\\\\')[-1] in files:\n",
    "        X_val.append(get_image('data/' + val.loc[i, 'filename'].split('\\\\')[-1]))\n",
    "        y_val.append(train.loc[i, 'label'])\n",
    "        \n",
    "for i in tqdm(range(test.shape[0])):\n",
    "    if test.loc[i, 'filename'].split('\\\\')[-1] in files:\n",
    "        X_test.append(get_image('data/' + test.loc[i, 'filename'].split('\\\\')[-1]))\n",
    "        y_test.append(test.loc[i, 'label'])"
   ]
  },
  {
   "cell_type": "code",
   "execution_count": 38,
   "metadata": {},
   "outputs": [],
   "source": [
    "X_train = np.array(X_train).transpose([0, 3, 1, 2])\n",
    "X_val = np.array(X_val).transpose([0, 3, 1, 2])\n",
    "X_test = np.array(X_test).transpose([0, 3, 1, 2])\n",
    "y_train = np.array(y_train)\n",
    "y_val = np.array(y_val)\n",
    "y_test = np.array(y_test)"
   ]
  },
  {
   "cell_type": "code",
   "execution_count": 41,
   "metadata": {},
   "outputs": [],
   "source": [
    "train_d = data_utils.TensorDataset(torch.Tensor(X_train), torch.LongTensor(y_train))\n",
    "train_loader = data_utils.DataLoader(train_d, batch_size=batch_size, shuffle=True)\n",
    "\n",
    "val_d = data_utils.TensorDataset(torch.Tensor(X_val), torch.LongTensor(y_val))\n",
    "val_loader = data_utils.DataLoader(val_d, batch_size=batch_size, shuffle=True)\n",
    "\n",
    "test_d = data_utils.TensorDataset(torch.Tensor(X_test), torch.LongTensor(y_test))\n",
    "test_loader = data_utils.DataLoader(test_d, batch_size=batch_size, shuffle=True)"
   ]
  },
  {
   "cell_type": "code",
   "execution_count": 50,
   "metadata": {},
   "outputs": [
    {
     "data": {
      "image/png": "[encoded data removed]",
      "text/plain": [
       "<Figure size 432x288 with 1 Axes>"
      ]
     },
     "metadata": {},
     "output_type": "display_data"
    },
    {
     "name": "stderr",
     "output_type": "stream",
     "text": [
      "100%|██████████| 10/10 [00:31<00:00,  3.17s/it]\n"
     ]
    }
   ],
   "source": [
    "n_epoch = 10\n",
    "val_scores = []\n",
    "train_scores = []\n",
    "for epoch in tqdm(range(n_epoch)):\n",
    "    \n",
    "    val_loss = 0\n",
    "    train_loss = 0\n",
    "    i = 0\n",
    "    net.train()\n",
    "    \n",
    "    for (x_batch, y_batch) in train_loader:\n",
    "        x_batch = Variable(x_batch).cuda(cuda_device)\n",
    "        y_batch = Variable(y_batch).cuda(cuda_device)\n",
    "        loss = F.cross_entropy(net.forward(x_batch), y_batch).cuda(cuda_device)\n",
    "        opt.zero_grad()\n",
    "        loss.backward()\n",
    "        opt.step()\n",
    "        train_loss += loss.cpu().data.numpy()\n",
    "        i += 1\n",
    "    \n",
    "    train_scores.append(train_loss / i)\n",
    "    i = 0\n",
    "    net.eval()\n",
    "    \n",
    "    for (x_batch, y_batch) in val_loader:\n",
    "        x_batch = Variable(x_batch).cuda(cuda_device)\n",
    "        y_batch = Variable(y_batch).cuda(cuda_device)\n",
    "        loss = F.cross_entropy(net.forward(x_batch), y_batch).cuda(cuda_device)\n",
    "        val_loss += loss.cpu().data.numpy()\n",
    "        i += 1\n",
    "    \n",
    "    val_scores.append(val_loss / i)\n",
    "    \n",
    "    clear_output()\n",
    "    plt.plot(val_scores, label='validate')\n",
    "    plt.plot(train_scores, label='train')\n",
    "    plt.legend()\n",
    "    plt.xlabel='epoch'\n",
    "    plt.ylabel='entropy score'\n",
    "    plt.show()"
   ]
  },
  {
   "cell_type": "code",
   "execution_count": 51,
   "metadata": {},
   "outputs": [],
   "source": [
    "loss = 0\n",
    "for (x_batch, y_batch) in test_loader:\n",
    "        x_batch = Variable(x_batch).cuda(cuda_device)\n",
    "        y_batch = Variable(y_batch).cuda(cuda_device)\n",
    "        pred = net.forward(x_batch).max(dim=1)[1]\n",
    "        loss += (y_batch == pred).sum().cpu().data.numpy()"
   ]
  },
  {
   "cell_type": "code",
   "execution_count": 52,
   "metadata": {},
   "outputs": [
    {
     "name": "stdout",
     "output_type": "stream",
     "text": [
      "[0.79487179]\n"
     ]
    }
   ],
   "source": [
    "print(loss / X_test.shape[0])"
   ]
  }
 ],
 "metadata": {
  "kernelspec": {
   "display_name": "Python 3",
   "language": "python",
   "name": "python3"
  },
  "language_info": {
   "codemirror_mode": {
    "name": "ipython",
    "version": 3
   },
   "file_extension": ".py",
   "mimetype": "text/x-python",
   "name": "python",
   "nbconvert_exporter": "python",
   "pygments_lexer": "ipython3",
   "version": "3.5.2"
  }
 },
 "nbformat": 4,
 "nbformat_minor": 2
}
