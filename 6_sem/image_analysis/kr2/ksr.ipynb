{
 "cells": [
  {
   "cell_type": "code",
   "execution_count": 1,
   "metadata": {},
   "outputs": [],
   "source": [
    "import torch\n",
    "import torch.optim as optim\n",
    "import torchvision\n",
    "from torchvision import transforms, datasets, models\n",
    "import torch.nn as nn\n",
    "import torch.nn.functional as F\n",
    "import torch.utils.data as data_utils\n",
    "from torch.autograd import Variable\n",
    "\n",
    "import pandas as pd\n",
    "import numpy as np\n",
    "import os\n",
    "\n",
    "from tqdm import tqdm\n",
    "\n",
    "from skimage import io as skio\n",
    "\n",
    "from IPython.display import clear_output\n",
    "import matplotlib.pyplot as plt"
   ]
  },
  {
   "cell_type": "code",
   "execution_count": 2,
   "metadata": {},
   "outputs": [],
   "source": [
    "cuda_device=5"
   ]
  },
  {
   "cell_type": "code",
   "execution_count": 3,
   "metadata": {},
   "outputs": [],
   "source": [
    "train = pd.read_csv('train_ready.csv')\n",
    "val = pd.read_csv('valid_ready.csv')\n",
    "test = pd.read_csv('test_ready.csv')"
   ]
  },
  {
   "cell_type": "code",
   "execution_count": 4,
   "metadata": {},
   "outputs": [],
   "source": [
    "class Unet_down(nn.Module):\n",
    "    def __init__(self, inp, oup):\n",
    "        super(self.__class__, self).__init__()\n",
    "        self.conv0 = nn.Conv2d(in_channels=inp, out_channels=oup, kernel_size=3, padding=1)\n",
    "        self.norm = nn.BatchNorm2d(num_features=oup)\n",
    "        self.drop = nn.Dropout2d()\n",
    "        \n",
    "    \n",
    "    def forward(self, X):\n",
    "        return F.max_pool2d(self.drop(self.norm(F.leaky_relu(self.conv0(X)))), 2)"
   ]
  },
  {
   "cell_type": "code",
   "execution_count": 5,
   "metadata": {},
   "outputs": [],
   "source": [
    "class Flatten(nn.Module):\n",
    "    def forward(self, input):\n",
    "        return input.view(input.size(0), -1)"
   ]
  },
  {
   "cell_type": "code",
   "execution_count": 6,
   "metadata": {},
   "outputs": [],
   "source": [
    "class Unet(nn.Module):\n",
    "    def __init__(self):\n",
    "        super(self.__class__, self).__init__()\n",
    "        \n",
    "        self.l1 = Unet_down(1, 64)\n",
    "        self.l2 = Unet_down(64, 128)\n",
    "        self.l3 = Unet_down(128, 128)\n",
    "        self.l4 = Unet_down(128, 128)\n",
    "        self.l5 = Unet_down(128, 128)\n",
    "        self.l6 = Unet_down(128, 256)\n",
    "        self.l7 = Unet_down(256, 256)\n",
    "        self.l8 = Flatten()\n",
    "        self.l9 = nn.Linear(1024, 2)\n",
    "        \n",
    "        \n",
    "    def forward(self, X):\n",
    "        X1 = self.l1.forward(X)\n",
    "        X2 = self.l2.forward(X1)\n",
    "        X3 = self.l3.forward(X2)\n",
    "        X4 = self.l4.forward(X3)\n",
    "        X5 = self.l5.forward(X4)\n",
    "        X6 = self.l6.forward(X5)\n",
    "        X7 = self.l7.forward(X6)\n",
    "        X8 = self.l8.forward(X7)\n",
    "        return self.l9.forward(X8)"
   ]
  },
  {
   "cell_type": "code",
   "execution_count": 7,
   "metadata": {},
   "outputs": [],
   "source": [
    "net = Unet().cuda(cuda_device)\n",
    "opt = optim.Adam(net.parameters())"
   ]
  },
  {
   "cell_type": "code",
   "execution_count": 8,
   "metadata": {},
   "outputs": [],
   "source": [
    "X_train = []\n",
    "X_val = []\n",
    "X_test = []\n",
    "y_train = []\n",
    "y_val = []\n",
    "y_test = []"
   ]
  },
  {
   "cell_type": "code",
   "execution_count": 9,
   "metadata": {},
   "outputs": [],
   "source": [
    "files = set(os.listdir('data'))"
   ]
  },
  {
   "cell_type": "code",
   "execution_count": 10,
   "metadata": {},
   "outputs": [
    {
     "name": "stderr",
     "output_type": "stream",
     "text": [
      "100%|██████████| 68527/68527 [00:02<00:00, 27256.93it/s]\n",
      "100%|██████████| 16842/16842 [00:00<00:00, 26068.66it/s]\n",
      "100%|██████████| 17241/17241 [00:00<00:00, 29561.61it/s]\n"
     ]
    }
   ],
   "source": [
    "for i in tqdm(range(train.shape[0])):\n",
    "    if train.loc[i, 'filename'].split('\\\\')[-1] in files:\n",
    "        X_train.append(skio.imread('data/' + train.loc[i, 'filename'].split('\\\\')[-1]))\n",
    "        y_train.append(train.loc[i, 'label'])\n",
    "        \n",
    "for i in tqdm(range(val.shape[0])):\n",
    "    if val.loc[i, 'filename'].split('\\\\')[-1] in files:\n",
    "        X_val.append(skio.imread('data/' + val.loc[i, 'filename'].split('\\\\')[-1]))\n",
    "        y_val.append(train.loc[i, 'label'])\n",
    "        \n",
    "for i in tqdm(range(test.shape[0])):\n",
    "    if test.loc[i, 'filename'].split('\\\\')[-1] in files:\n",
    "        X_test.append(skio.imread('data/' + test.loc[i, 'filename'].split('\\\\')[-1]))\n",
    "        y_test.append(test.loc[i, 'label'])"
   ]
  },
  {
   "cell_type": "code",
   "execution_count": 11,
   "metadata": {},
   "outputs": [],
   "source": [
    "X_train = np.array(X_train).reshape(-1, 1, 256, 256) / 255\n",
    "X_val = np.array(X_val).reshape(-1, 1, 256, 256) / 255\n",
    "X_test = np.array(X_test).reshape(-1, 1, 256, 256) / 255\n",
    "y_train = np.array(y_train)\n",
    "y_val = np.array(y_val)\n",
    "y_test = np.array(y_test)"
   ]
  },
  {
   "cell_type": "code",
   "execution_count": 15,
   "metadata": {},
   "outputs": [],
   "source": [
    "train_d = data_utils.TensorDataset(torch.Tensor(X_train), torch.LongTensor(y_train))\n",
    "train_loader = data_utils.DataLoader(train_d, batch_size=10, shuffle=True)\n",
    "\n",
    "val_d = data_utils.TensorDataset(torch.Tensor(X_val), torch.LongTensor(y_val))\n",
    "val_loader = data_utils.DataLoader(val_d, batch_size=10, shuffle=True)\n",
    "\n",
    "test_d = data_utils.TensorDataset(torch.Tensor(X_test), torch.LongTensor(y_test))\n",
    "test_loader = data_utils.DataLoader(test_d, batch_size=10, shuffle=True)"
   ]
  },
  {
   "cell_type": "code",
   "execution_count": 13,
   "metadata": {},
   "outputs": [
    {
     "data": {
      "image/png": "[encoded data removed]",
      "text/plain": [
       "<Figure size 432x288 with 1 Axes>"
      ]
     },
     "metadata": {},
     "output_type": "display_data"
    },
    {
     "name": "stderr",
     "output_type": "stream",
     "text": [
      "100%|██████████| 20/20 [01:39<00:00,  4.95s/it]\n"
     ]
    }
   ],
   "source": [
    "n_epoch = 20\n",
    "val_scores = []\n",
    "train_scores = []\n",
    "for epoch in tqdm(range(n_epoch)):\n",
    "    \n",
    "    val_loss = 0\n",
    "    train_loss = 0\n",
    "    i = 0\n",
    "    net.train()\n",
    "    \n",
    "    for (x_batch, y_batch) in train_loader:\n",
    "        x_batch = Variable(x_batch).cuda(cuda_device)\n",
    "        y_batch = Variable(y_batch).cuda(cuda_device)\n",
    "        loss = F.cross_entropy(net.forward(x_batch), y_batch).cuda(cuda_device)\n",
    "        opt.zero_grad()\n",
    "        loss.backward()\n",
    "        opt.step()\n",
    "        train_loss += loss.cpu().data.numpy()\n",
    "        i += 1\n",
    "    \n",
    "    train_scores.append(train_loss / i)\n",
    "    i = 0\n",
    "    net.eval()\n",
    "    \n",
    "    for (x_batch, y_batch) in val_loader:\n",
    "        x_batch = Variable(x_batch).cuda(cuda_device)\n",
    "        y_batch = Variable(y_batch).cuda(cuda_device)\n",
    "        loss = F.cross_entropy(net.forward(x_batch), y_batch).cuda(cuda_device)\n",
    "        val_loss += loss.cpu().data.numpy()\n",
    "        i += 1\n",
    "    \n",
    "    val_scores.append(val_loss / i)\n",
    "    \n",
    "    clear_output()\n",
    "    plt.plot(val_scores, label='validate')\n",
    "    plt.plot(train_scores, label='train')\n",
    "    plt.legend()\n",
    "    plt.xlabel='epoch'\n",
    "    plt.ylabel='entropy score'\n",
    "    plt.show()"
   ]
  },
  {
   "cell_type": "code",
   "execution_count": 35,
   "metadata": {},
   "outputs": [],
   "source": [
    "loss = 0\n",
    "for (x_batch, y_batch) in test_loader:\n",
    "        x_batch = Variable(x_batch).cuda(cuda_device)\n",
    "        y_batch = Variable(y_batch).cuda(cuda_device)\n",
    "        pred = net.forward(x_batch).max(dim=1)[1]\n",
    "        loss += (y_batch == pred).sum().cpu().data.numpy()"
   ]
  },
  {
   "cell_type": "code",
   "execution_count": 36,
   "metadata": {},
   "outputs": [
    {
     "name": "stdout",
     "output_type": "stream",
     "text": [
      "[0.75384615]\n"
     ]
    }
   ],
   "source": [
    "print(loss / X_test.shape[0])"
   ]
  }
 ],
 "metadata": {
  "kernelspec": {
   "display_name": "Python 3",
   "language": "python",
   "name": "python3"
  },
  "language_info": {
   "codemirror_mode": {
    "name": "ipython",
    "version": 3
   },
   "file_extension": ".py",
   "mimetype": "text/x-python",
   "name": "python",
   "nbconvert_exporter": "python",
   "pygments_lexer": "ipython3",
   "version": "3.5.2"
  }
 },
 "nbformat": 4,
 "nbformat_minor": 2
}
